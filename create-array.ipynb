{
 "cells": [
  {
   "cell_type": "code",
   "execution_count": 1,
   "id": "498c3fc5",
   "metadata": {
    "execution": {
     "iopub.execute_input": "2025-06-24T17:06:26.670495Z",
     "iopub.status.busy": "2025-06-24T17:06:26.669940Z",
     "iopub.status.idle": "2025-06-24T17:06:26.678275Z",
     "shell.execute_reply": "2025-06-24T17:06:26.677240Z"
    },
    "papermill": {
     "duration": 0.01496,
     "end_time": "2025-06-24T17:06:26.679925",
     "exception": false,
     "start_time": "2025-06-24T17:06:26.664965",
     "status": "completed"
    },
    "tags": []
   },
   "outputs": [],
   "source": [
    "import numpy as np"
   ]
  },
  {
   "cell_type": "code",
   "execution_count": 2,
   "id": "b11a91e6",
   "metadata": {
    "execution": {
     "iopub.execute_input": "2025-06-24T17:06:26.687591Z",
     "iopub.status.busy": "2025-06-24T17:06:26.687226Z",
     "iopub.status.idle": "2025-06-24T17:06:26.695746Z",
     "shell.execute_reply": "2025-06-24T17:06:26.694864Z"
    },
    "papermill": {
     "duration": 0.014011,
     "end_time": "2025-06-24T17:06:26.697467",
     "exception": false,
     "start_time": "2025-06-24T17:06:26.683456",
     "status": "completed"
    },
    "tags": []
   },
   "outputs": [
    {
     "data": {
      "text/plain": [
       "array([1, 2, 3, 4, 5])"
      ]
     },
     "execution_count": 2,
     "metadata": {},
     "output_type": "execute_result"
    }
   ],
   "source": [
    "#creating array from existing list\n",
    "\n",
    "list_1 = [1, 2, 3, 4, 5]\n",
    "arr_1 = np.array(list_1)\n",
    "arr_1"
   ]
  },
  {
   "cell_type": "code",
   "execution_count": 3,
   "id": "b2d17fb2",
   "metadata": {
    "execution": {
     "iopub.execute_input": "2025-06-24T17:06:26.705277Z",
     "iopub.status.busy": "2025-06-24T17:06:26.704511Z",
     "iopub.status.idle": "2025-06-24T17:06:26.710690Z",
     "shell.execute_reply": "2025-06-24T17:06:26.709844Z"
    },
    "papermill": {
     "duration": 0.011401,
     "end_time": "2025-06-24T17:06:26.712049",
     "exception": false,
     "start_time": "2025-06-24T17:06:26.700648",
     "status": "completed"
    },
    "tags": []
   },
   "outputs": [
    {
     "data": {
      "text/plain": [
       "array(5)"
      ]
     },
     "execution_count": 3,
     "metadata": {},
     "output_type": "execute_result"
    }
   ],
   "source": [
    "# creating 1d array\n",
    "\n",
    "arr_1d = np.array([1, 2, 3, 4, 5])\n",
    "arr_1d\n",
    "\n",
    "arr_1d_placeholder = np.array(5)\n",
    "arr_1d_placeholder"
   ]
  },
  {
   "cell_type": "code",
   "execution_count": 4,
   "id": "ccda4c88",
   "metadata": {
    "execution": {
     "iopub.execute_input": "2025-06-24T17:06:26.720329Z",
     "iopub.status.busy": "2025-06-24T17:06:26.719444Z",
     "iopub.status.idle": "2025-06-24T17:06:26.726010Z",
     "shell.execute_reply": "2025-06-24T17:06:26.725164Z"
    },
    "papermill": {
     "duration": 0.012388,
     "end_time": "2025-06-24T17:06:26.727825",
     "exception": false,
     "start_time": "2025-06-24T17:06:26.715437",
     "status": "completed"
    },
    "tags": []
   },
   "outputs": [
    {
     "data": {
      "text/plain": [
       "array([[1, 2, 3],\n",
       "       [4, 5, 6]])"
      ]
     },
     "execution_count": 4,
     "metadata": {},
     "output_type": "execute_result"
    }
   ],
   "source": [
    "# 2d array\n",
    "\n",
    "arr_2d = np.array([[1, 2, 3],\n",
    "                  [4, 5, 6]])\n",
    "arr_2d"
   ]
  },
  {
   "cell_type": "code",
   "execution_count": 5,
   "id": "61de1e17",
   "metadata": {
    "execution": {
     "iopub.execute_input": "2025-06-24T17:06:26.735908Z",
     "iopub.status.busy": "2025-06-24T17:06:26.734949Z",
     "iopub.status.idle": "2025-06-24T17:06:26.741542Z",
     "shell.execute_reply": "2025-06-24T17:06:26.740673Z"
    },
    "papermill": {
     "duration": 0.012067,
     "end_time": "2025-06-24T17:06:26.743143",
     "exception": false,
     "start_time": "2025-06-24T17:06:26.731076",
     "status": "completed"
    },
    "tags": []
   },
   "outputs": [
    {
     "data": {
      "text/plain": [
       "array([[['a', 'b', 'c'],\n",
       "        ['d', 'e', 'f']],\n",
       "\n",
       "       [['x', 'y', 'z'],\n",
       "        ['p', 'q', 'r']]], dtype='<U1')"
      ]
     },
     "execution_count": 5,
     "metadata": {},
     "output_type": "execute_result"
    }
   ],
   "source": [
    "# 3d array\n",
    "\n",
    "arr_3d = np.array([\n",
    "    [[\"a\", \"b\", \"c\"],\n",
    "    [\"d\", \"e\", \"f\"]],\n",
    "    \n",
    "    [[\"x\", \"y\", \"z\"],\n",
    "    [\"p\", \"q\", \"r\"]]\n",
    "])\n",
    "arr_3d"
   ]
  },
  {
   "cell_type": "code",
   "execution_count": 6,
   "id": "3ef1f634",
   "metadata": {
    "execution": {
     "iopub.execute_input": "2025-06-24T17:06:26.751002Z",
     "iopub.status.busy": "2025-06-24T17:06:26.750714Z",
     "iopub.status.idle": "2025-06-24T17:06:26.756687Z",
     "shell.execute_reply": "2025-06-24T17:06:26.755827Z"
    },
    "papermill": {
     "duration": 0.011733,
     "end_time": "2025-06-24T17:06:26.758399",
     "exception": false,
     "start_time": "2025-06-24T17:06:26.746666",
     "status": "completed"
    },
    "tags": []
   },
   "outputs": [
    {
     "data": {
      "text/plain": [
       "array([0.39128634, 0.19046232, 0.26573777])"
      ]
     },
     "execution_count": 6,
     "metadata": {},
     "output_type": "execute_result"
    }
   ],
   "source": [
    "# random array generation 1d\n",
    "arr_rand = np.random.random(3)\n",
    "arr_rand"
   ]
  },
  {
   "cell_type": "code",
   "execution_count": 7,
   "id": "5674d725",
   "metadata": {
    "execution": {
     "iopub.execute_input": "2025-06-24T17:06:26.766875Z",
     "iopub.status.busy": "2025-06-24T17:06:26.766201Z",
     "iopub.status.idle": "2025-06-24T17:06:26.774635Z",
     "shell.execute_reply": "2025-06-24T17:06:26.773816Z"
    },
    "papermill": {
     "duration": 0.013959,
     "end_time": "2025-06-24T17:06:26.776028",
     "exception": false,
     "start_time": "2025-06-24T17:06:26.762069",
     "status": "completed"
    },
    "tags": []
   },
   "outputs": [
    {
     "data": {
      "text/plain": [
       "array([9, 5, 5, 4, 5])"
      ]
     },
     "execution_count": 7,
     "metadata": {},
     "output_type": "execute_result"
    }
   ],
   "source": [
    "# random array generation for n-dimensional\n",
    "arr_rand_nd = np.random.rand(2, 3)\n",
    "arr_rand_nd\n",
    "\n",
    "arr_rand_3d = np.random.randint(2, 10, 5) # from 2 to 10, generate 5 random numbers\n",
    "arr_rand_3d"
   ]
  },
  {
   "cell_type": "code",
   "execution_count": 8,
   "id": "63eeb807",
   "metadata": {
    "execution": {
     "iopub.execute_input": "2025-06-24T17:06:26.784209Z",
     "iopub.status.busy": "2025-06-24T17:06:26.783909Z",
     "iopub.status.idle": "2025-06-24T17:06:26.790006Z",
     "shell.execute_reply": "2025-06-24T17:06:26.789194Z"
    },
    "papermill": {
     "duration": 0.01201,
     "end_time": "2025-06-24T17:06:26.791562",
     "exception": false,
     "start_time": "2025-06-24T17:06:26.779552",
     "status": "completed"
    },
    "tags": []
   },
   "outputs": [
    {
     "data": {
      "text/plain": [
       "array([[[ 2,  7],\n",
       "        [12, 17],\n",
       "        [22, 27],\n",
       "        [32, 37],\n",
       "        [42, 47]],\n",
       "\n",
       "       [[52, 57],\n",
       "        [62, 67],\n",
       "        [72, 77],\n",
       "        [82, 87],\n",
       "        [92, 97]]])"
      ]
     },
     "execution_count": 8,
     "metadata": {},
     "output_type": "execute_result"
    }
   ],
   "source": [
    "# reshape\n",
    "\n",
    "arr_reshape = np.arange(2, 100, 5).reshape(2, 5, 2)\n",
    "arr_reshape"
   ]
  },
  {
   "cell_type": "code",
   "execution_count": 9,
   "id": "1c1a3d48",
   "metadata": {
    "execution": {
     "iopub.execute_input": "2025-06-24T17:06:26.799889Z",
     "iopub.status.busy": "2025-06-24T17:06:26.799608Z",
     "iopub.status.idle": "2025-06-24T17:06:26.806552Z",
     "shell.execute_reply": "2025-06-24T17:06:26.805394Z"
    },
    "papermill": {
     "duration": 0.012814,
     "end_time": "2025-06-24T17:06:26.808036",
     "exception": false,
     "start_time": "2025-06-24T17:06:26.795222",
     "status": "completed"
    },
    "tags": []
   },
   "outputs": [
    {
     "data": {
      "text/plain": [
       "array([[[False, False, False, False, False],\n",
       "        [False, False, False, False, False],\n",
       "        [False, False, False, False, False]],\n",
       "\n",
       "       [[False, False, False, False, False],\n",
       "        [False, False, False, False, False],\n",
       "        [False, False, False, False, False]],\n",
       "\n",
       "       [[False, False, False, False, False],\n",
       "        [False, False, False, False, False],\n",
       "        [False, False, False, False, False]]])"
      ]
     },
     "execution_count": 9,
     "metadata": {},
     "output_type": "execute_result"
    }
   ],
   "source": [
    "# zeros\n",
    "arr_zeros = np.zeros(5, dtype=int) # arr of one dimension with 5 zeros\n",
    "arr_zeros\n",
    "\n",
    "arr_zeros_nd = np.zeros((3, 3, 5), dtype=bool) # false because everything is 0\n",
    "arr_zeros_nd"
   ]
  },
  {
   "cell_type": "code",
   "execution_count": 10,
   "id": "b66069df",
   "metadata": {
    "execution": {
     "iopub.execute_input": "2025-06-24T17:06:26.816627Z",
     "iopub.status.busy": "2025-06-24T17:06:26.816248Z",
     "iopub.status.idle": "2025-06-24T17:06:26.822882Z",
     "shell.execute_reply": "2025-06-24T17:06:26.822057Z"
    },
    "papermill": {
     "duration": 0.0126,
     "end_time": "2025-06-24T17:06:26.824354",
     "exception": false,
     "start_time": "2025-06-24T17:06:26.811754",
     "status": "completed"
    },
    "tags": []
   },
   "outputs": [
    {
     "data": {
      "text/plain": [
       "array([[[ True,  True,  True,  True,  True],\n",
       "        [ True,  True,  True,  True,  True],\n",
       "        [ True,  True,  True,  True,  True]],\n",
       "\n",
       "       [[ True,  True,  True,  True,  True],\n",
       "        [ True,  True,  True,  True,  True],\n",
       "        [ True,  True,  True,  True,  True]],\n",
       "\n",
       "       [[ True,  True,  True,  True,  True],\n",
       "        [ True,  True,  True,  True,  True],\n",
       "        [ True,  True,  True,  True,  True]]])"
      ]
     },
     "execution_count": 10,
     "metadata": {},
     "output_type": "execute_result"
    }
   ],
   "source": [
    "# ones\n",
    "arr_ones = np.ones(5, dtype=int) # arr of 1d with 5 ones\n",
    "arr_ones\n",
    "\n",
    "arr_ones_nd = np.ones((3, 3, 5), dtype=bool) # true because everything is 1\n",
    "arr_ones_nd"
   ]
  },
  {
   "cell_type": "code",
   "execution_count": 11,
   "id": "a9a1e78e",
   "metadata": {
    "execution": {
     "iopub.execute_input": "2025-06-24T17:06:26.834108Z",
     "iopub.status.busy": "2025-06-24T17:06:26.833846Z",
     "iopub.status.idle": "2025-06-24T17:06:26.840035Z",
     "shell.execute_reply": "2025-06-24T17:06:26.839201Z"
    },
    "papermill": {
     "duration": 0.012068,
     "end_time": "2025-06-24T17:06:26.841511",
     "exception": false,
     "start_time": "2025-06-24T17:06:26.829443",
     "status": "completed"
    },
    "tags": []
   },
   "outputs": [
    {
     "data": {
      "text/plain": [
       "array([1.06791308e-315, 0.00000000e+000, 1.03930495e-315, 1.06312263e-315,\n",
       "       2.37151510e-322])"
      ]
     },
     "execution_count": 11,
     "metadata": {},
     "output_type": "execute_result"
    }
   ],
   "source": [
    "# empty\n",
    "\n",
    "arr_empty = np.empty(5) #empty doesnt mean just null, but it allocates the memory for the array and doesnt fill the data, but the data here shown is the data system already had, like background processings or stuff like that\n",
    "arr_empty"
   ]
  },
  {
   "cell_type": "code",
   "execution_count": 12,
   "id": "2bb9e1c3",
   "metadata": {
    "execution": {
     "iopub.execute_input": "2025-06-24T17:06:26.850120Z",
     "iopub.status.busy": "2025-06-24T17:06:26.849826Z",
     "iopub.status.idle": "2025-06-24T17:06:26.856460Z",
     "shell.execute_reply": "2025-06-24T17:06:26.855369Z"
    },
    "papermill": {
     "duration": 0.012613,
     "end_time": "2025-06-24T17:06:26.857852",
     "exception": false,
     "start_time": "2025-06-24T17:06:26.845239",
     "status": "completed"
    },
    "tags": []
   },
   "outputs": [
    {
     "data": {
      "text/plain": [
       "array([ 2,  4,  6,  8, 10, 12, 14, 16, 18, 20])"
      ]
     },
     "execution_count": 12,
     "metadata": {},
     "output_type": "execute_result"
    }
   ],
   "source": [
    "# arange\n",
    "\n",
    "arr_range = np.arange(10) #from 0 to 9\n",
    "arr_range\n",
    "\n",
    "arr_range_start_to_end = np.arange(19, 27) # from 19 to 26\n",
    "arr_range_start_to_end\n",
    "\n",
    "arr_range_steps = np.arange(2, 21, 2) # from 2 to 20 but with 2 steps (even numbers in this case)\n",
    "arr_range_steps"
   ]
  },
  {
   "cell_type": "code",
   "execution_count": 13,
   "id": "e808b889",
   "metadata": {
    "execution": {
     "iopub.execute_input": "2025-06-24T17:06:26.866382Z",
     "iopub.status.busy": "2025-06-24T17:06:26.866060Z",
     "iopub.status.idle": "2025-06-24T17:06:26.870551Z",
     "shell.execute_reply": "2025-06-24T17:06:26.869546Z"
    },
    "papermill": {
     "duration": 0.01055,
     "end_time": "2025-06-24T17:06:26.872136",
     "exception": false,
     "start_time": "2025-06-24T17:06:26.861586",
     "status": "completed"
    },
    "tags": []
   },
   "outputs": [],
   "source": [
    "# linspace\n"
   ]
  }
 ],
 "metadata": {
  "kaggle": {
   "accelerator": "none",
   "dataSources": [],
   "dockerImageVersionId": 31040,
   "isGpuEnabled": false,
   "isInternetEnabled": false,
   "language": "python",
   "sourceType": "notebook"
  },
  "kernelspec": {
   "display_name": "Python 3",
   "language": "python",
   "name": "python3"
  },
  "language_info": {
   "codemirror_mode": {
    "name": "ipython",
    "version": 3
   },
   "file_extension": ".py",
   "mimetype": "text/x-python",
   "name": "python",
   "nbconvert_exporter": "python",
   "pygments_lexer": "ipython3",
   "version": "3.11.11"
  },
  "papermill": {
   "default_parameters": {},
   "duration": 5.72516,
   "end_time": "2025-06-24T17:06:27.296113",
   "environment_variables": {},
   "exception": null,
   "input_path": "__notebook__.ipynb",
   "output_path": "__notebook__.ipynb",
   "parameters": {},
   "start_time": "2025-06-24T17:06:21.570953",
   "version": "2.6.0"
  }
 },
 "nbformat": 4,
 "nbformat_minor": 5
}
