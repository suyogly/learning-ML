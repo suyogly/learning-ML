{
 "cells": [
  {
   "cell_type": "markdown",
   "id": "34531b5d",
   "metadata": {
    "papermill": {
     "duration": 0.003037,
     "end_time": "2025-06-27T17:02:43.809808",
     "exception": false,
     "start_time": "2025-06-27T17:02:43.806771",
     "status": "completed"
    },
    "tags": []
   },
   "source": [
    "# **Array Manipulation**"
   ]
  },
  {
   "cell_type": "markdown",
   "id": "e0db6339",
   "metadata": {
    "papermill": {
     "duration": 0.00214,
     "end_time": "2025-06-27T17:02:43.814736",
     "exception": false,
     "start_time": "2025-06-27T17:02:43.812596",
     "status": "completed"
    },
    "tags": []
   },
   "source": [
    "Here, I will learn different methods of modiying the arrays while also learning about the arithmetic operations. "
   ]
  },
  {
   "cell_type": "markdown",
   "id": "fd21b749",
   "metadata": {
    "papermill": {
     "duration": 0.002005,
     "end_time": "2025-06-27T17:02:43.819011",
     "exception": false,
     "start_time": "2025-06-27T17:02:43.817006",
     "status": "completed"
    },
    "tags": []
   },
   "source": [
    "## **1. Value Asignment and Conditional Updates**"
   ]
  },
  {
   "cell_type": "markdown",
   "id": "105f8831",
   "metadata": {
    "papermill": {
     "duration": 0.002002,
     "end_time": "2025-06-27T17:02:43.823248",
     "exception": false,
     "start_time": "2025-06-27T17:02:43.821246",
     "status": "completed"
    },
    "tags": []
   },
   "source": [
    "This is fundamental because it's how you directly alter the data stored within your arrays. With three main ways:\n",
    "\n",
    "- **Direct Element Assignment**: Changing one specific value.\n",
    "- **Slice Assignment**: Changing a range of values.\n",
    "- **Boolean Mask Assignment**: Changing values based on a condition."
   ]
  },
  {
   "cell_type": "code",
   "execution_count": 1,
   "id": "739145fb",
   "metadata": {
    "execution": {
     "iopub.execute_input": "2025-06-27T17:02:43.828916Z",
     "iopub.status.busy": "2025-06-27T17:02:43.828631Z",
     "iopub.status.idle": "2025-06-27T17:02:43.835515Z",
     "shell.execute_reply": "2025-06-27T17:02:43.834806Z"
    },
    "papermill": {
     "duration": 0.011478,
     "end_time": "2025-06-27T17:02:43.836957",
     "exception": false,
     "start_time": "2025-06-27T17:02:43.825479",
     "status": "completed"
    },
    "tags": []
   },
   "outputs": [],
   "source": [
    "import numpy as np"
   ]
  },
  {
   "cell_type": "code",
   "execution_count": 2,
   "id": "1f07ba92",
   "metadata": {
    "execution": {
     "iopub.execute_input": "2025-06-27T17:02:43.843083Z",
     "iopub.status.busy": "2025-06-27T17:02:43.842781Z",
     "iopub.status.idle": "2025-06-27T17:02:43.848041Z",
     "shell.execute_reply": "2025-06-27T17:02:43.847236Z"
    },
    "papermill": {
     "duration": 0.010037,
     "end_time": "2025-06-27T17:02:43.849522",
     "exception": false,
     "start_time": "2025-06-27T17:02:43.839485",
     "status": "completed"
    },
    "tags": []
   },
   "outputs": [],
   "source": [
    "assign_1d = np.array([10, 20, 30, 40, 50, 60, 70, 80, 90, 100]) #1d array\n",
    "\n",
    "assign_2d = np.array([ #2d array\n",
    "    [1, 2, 3, 4],\n",
    "    [5, 6, 7, 8],\n",
    "    [9, 10, 11, 12]\n",
    "])\n",
    "\n",
    "assign_3d = np.array([ #3d array\n",
    "    [[100, 200, 300],\n",
    "        [400, 500, 600]],\n",
    "\n",
    "    [[719, 819, 919],\n",
    "    [1019, 1119, 1129]]\n",
    "])"
   ]
  },
  {
   "cell_type": "markdown",
   "id": "82ac4a9b",
   "metadata": {
    "papermill": {
     "duration": 0.00221,
     "end_time": "2025-06-27T17:02:43.854206",
     "exception": false,
     "start_time": "2025-06-27T17:02:43.851996",
     "status": "completed"
    },
    "tags": []
   },
   "source": [
    "### **Direct Element Assignment**"
   ]
  },
  {
   "cell_type": "markdown",
   "id": "622a186c",
   "metadata": {
    "papermill": {
     "duration": 0.001976,
     "end_time": "2025-06-27T17:02:43.858455",
     "exception": false,
     "start_time": "2025-06-27T17:02:43.856479",
     "status": "completed"
    },
    "tags": []
   },
   "source": [
    "Changing one specific value"
   ]
  },
  {
   "cell_type": "code",
   "execution_count": 3,
   "id": "5eeb506b",
   "metadata": {
    "execution": {
     "iopub.execute_input": "2025-06-27T17:02:43.864372Z",
     "iopub.status.busy": "2025-06-27T17:02:43.863935Z",
     "iopub.status.idle": "2025-06-27T17:02:43.873863Z",
     "shell.execute_reply": "2025-06-27T17:02:43.873099Z"
    },
    "papermill": {
     "duration": 0.014479,
     "end_time": "2025-06-27T17:02:43.875226",
     "exception": false,
     "start_time": "2025-06-27T17:02:43.860747",
     "status": "completed"
    },
    "tags": []
   },
   "outputs": [
    {
     "data": {
      "text/plain": [
       "array([[[ 100,  200,  300],\n",
       "        [ 400,  500,    1]],\n",
       "\n",
       "       [[ 719,  819,  919],\n",
       "        [1019, 1119, 1129]]])"
      ]
     },
     "execution_count": 3,
     "metadata": {},
     "output_type": "execute_result"
    }
   ],
   "source": [
    "# this is easy, same as we did in indexing\n",
    "\n",
    "assign_1d [7] = 999 # changes the 7th index or 8th element -> from 80 to 999\n",
    "assign_1d\n",
    "\n",
    "assign_2d [1, -1] = 918 # changes the last element of the 2nd row -> from 8 to 918\n",
    "assign_2d\n",
    "\n",
    "assign_3d [0, 1, 2] = 1 # changes the 3rd element located in second row of 1st slice -> from 600 to 1\n",
    "assign_3d"
   ]
  },
  {
   "cell_type": "markdown",
   "id": "66e405ca",
   "metadata": {
    "papermill": {
     "duration": 0.002674,
     "end_time": "2025-06-27T17:02:43.880584",
     "exception": false,
     "start_time": "2025-06-27T17:02:43.877910",
     "status": "completed"
    },
    "tags": []
   },
   "source": [
    "### **Slice Assignment**"
   ]
  },
  {
   "cell_type": "markdown",
   "id": "28d46fc8",
   "metadata": {
    "papermill": {
     "duration": 0.002275,
     "end_time": "2025-06-27T17:02:43.885372",
     "exception": false,
     "start_time": "2025-06-27T17:02:43.883097",
     "status": "completed"
    },
    "tags": []
   },
   "source": [
    "What if we want to change the multiple values at once? Like entire rows or from x-index to y-index?"
   ]
  },
  {
   "cell_type": "code",
   "execution_count": 4,
   "id": "b1151086",
   "metadata": {
    "execution": {
     "iopub.execute_input": "2025-06-27T17:02:43.891960Z",
     "iopub.status.busy": "2025-06-27T17:02:43.891174Z",
     "iopub.status.idle": "2025-06-27T17:02:43.896936Z",
     "shell.execute_reply": "2025-06-27T17:02:43.895907Z"
    },
    "papermill": {
     "duration": 0.010691,
     "end_time": "2025-06-27T17:02:43.898525",
     "exception": false,
     "start_time": "2025-06-27T17:02:43.887834",
     "status": "completed"
    },
    "tags": []
   },
   "outputs": [
    {
     "name": "stdout",
     "output_type": "stream",
     "text": [
      "1d: [ 10  20  30  40  50  60  70 999  90 100]\n",
      "2d: [[  1   2   3   4]\n",
      " [  5   6   7 918]\n",
      " [  9  10  11  12]]\n",
      "3d: [[[ 100  200  300]\n",
      "  [ 400  500    1]]\n",
      "\n",
      " [[ 719  819  919]\n",
      "  [1019 1119 1129]]]\n"
     ]
    }
   ],
   "source": [
    "print(f\"1d: {assign_1d}\")\n",
    "print(f\"2d: {assign_2d}\")\n",
    "print(f\"3d: {assign_3d}\")"
   ]
  },
  {
   "cell_type": "code",
   "execution_count": null,
   "id": "94021934",
   "metadata": {
    "papermill": {
     "duration": 0.002412,
     "end_time": "2025-06-27T17:02:43.903576",
     "exception": false,
     "start_time": "2025-06-27T17:02:43.901164",
     "status": "completed"
    },
    "tags": []
   },
   "outputs": [],
   "source": []
  }
 ],
 "metadata": {
  "kaggle": {
   "accelerator": "none",
   "dataSources": [],
   "dockerImageVersionId": 31040,
   "isGpuEnabled": false,
   "isInternetEnabled": false,
   "language": "python",
   "sourceType": "notebook"
  },
  "kernelspec": {
   "display_name": "Python 3",
   "language": "python",
   "name": "python3"
  },
  "language_info": {
   "codemirror_mode": {
    "name": "ipython",
    "version": 3
   },
   "file_extension": ".py",
   "mimetype": "text/x-python",
   "name": "python",
   "nbconvert_exporter": "python",
   "pygments_lexer": "ipython3",
   "version": "3.11.11"
  },
  "papermill": {
   "default_parameters": {},
   "duration": 5.385135,
   "end_time": "2025-06-27T17:02:44.325213",
   "environment_variables": {},
   "exception": null,
   "input_path": "__notebook__.ipynb",
   "output_path": "__notebook__.ipynb",
   "parameters": {},
   "start_time": "2025-06-27T17:02:38.940078",
   "version": "2.6.0"
  }
 },
 "nbformat": 4,
 "nbformat_minor": 5
}
