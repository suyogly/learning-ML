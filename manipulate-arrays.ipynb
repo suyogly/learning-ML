{
 "cells": [
  {
   "cell_type": "markdown",
   "id": "efd9d8d5",
   "metadata": {
    "papermill": {
     "duration": 0.004799,
     "end_time": "2025-06-29T07:56:13.133253",
     "exception": false,
     "start_time": "2025-06-29T07:56:13.128454",
     "status": "completed"
    },
    "tags": []
   },
   "source": [
    "# **Array Manipulation**"
   ]
  },
  {
   "cell_type": "markdown",
   "id": "1e45f9ca",
   "metadata": {
    "papermill": {
     "duration": 0.003533,
     "end_time": "2025-06-29T07:56:13.140820",
     "exception": false,
     "start_time": "2025-06-29T07:56:13.137287",
     "status": "completed"
    },
    "tags": []
   },
   "source": [
    "Here, I will learn different methods of modiying the arrays while also learning about the arithmetic operations. "
   ]
  },
  {
   "cell_type": "markdown",
   "id": "42c2d440",
   "metadata": {
    "papermill": {
     "duration": 0.003424,
     "end_time": "2025-06-29T07:56:13.148074",
     "exception": false,
     "start_time": "2025-06-29T07:56:13.144650",
     "status": "completed"
    },
    "tags": []
   },
   "source": [
    "## **1. Value Asignment and Conditional Updates**"
   ]
  },
  {
   "cell_type": "markdown",
   "id": "c1fbb022",
   "metadata": {
    "papermill": {
     "duration": 0.003488,
     "end_time": "2025-06-29T07:56:13.155187",
     "exception": false,
     "start_time": "2025-06-29T07:56:13.151699",
     "status": "completed"
    },
    "tags": []
   },
   "source": [
    "This is fundamental because it's how you directly alter the data stored within your arrays. With three main ways:\n",
    "\n",
    "- **Direct Element Assignment**: Changing one specific value.\n",
    "- **Slice Assignment**: Changing a range of values.\n",
    "- **Boolean Mask Assignment**: Changing values based on a condition."
   ]
  },
  {
   "cell_type": "code",
   "execution_count": 1,
   "id": "b3577af2",
   "metadata": {
    "execution": {
     "iopub.execute_input": "2025-06-29T07:56:13.163927Z",
     "iopub.status.busy": "2025-06-29T07:56:13.163557Z",
     "iopub.status.idle": "2025-06-29T07:56:13.170560Z",
     "shell.execute_reply": "2025-06-29T07:56:13.169937Z"
    },
    "papermill": {
     "duration": 0.012904,
     "end_time": "2025-06-29T07:56:13.171892",
     "exception": false,
     "start_time": "2025-06-29T07:56:13.158988",
     "status": "completed"
    },
    "tags": []
   },
   "outputs": [],
   "source": [
    "import numpy as np"
   ]
  },
  {
   "cell_type": "code",
   "execution_count": 2,
   "id": "a9a87ad4",
   "metadata": {
    "execution": {
     "iopub.execute_input": "2025-06-29T07:56:13.180725Z",
     "iopub.status.busy": "2025-06-29T07:56:13.180443Z",
     "iopub.status.idle": "2025-06-29T07:56:13.185495Z",
     "shell.execute_reply": "2025-06-29T07:56:13.184839Z"
    },
    "papermill": {
     "duration": 0.010774,
     "end_time": "2025-06-29T07:56:13.186712",
     "exception": false,
     "start_time": "2025-06-29T07:56:13.175938",
     "status": "completed"
    },
    "tags": []
   },
   "outputs": [],
   "source": [
    "assign_1d = np.array([10, 20, 30, 40, 50, 60, 70, 80, 90, 100]) #1d array\n",
    "\n",
    "assign_2d = np.array([ #2d array\n",
    "    [1, 2, 3, 4],\n",
    "    [5, 6, 7, 8],\n",
    "    [9, 10, 11, 12]\n",
    "])\n",
    "\n",
    "assign_3d = np.array([ #3d array\n",
    "    [[100, 200, 300],\n",
    "        [400, 500, 600]],\n",
    "\n",
    "    [[719, 819, 919],\n",
    "    [1019, 1119, 1129]]\n",
    "])"
   ]
  },
  {
   "cell_type": "markdown",
   "id": "dc284b8f",
   "metadata": {
    "papermill": {
     "duration": 0.003632,
     "end_time": "2025-06-29T07:56:13.194224",
     "exception": false,
     "start_time": "2025-06-29T07:56:13.190592",
     "status": "completed"
    },
    "tags": []
   },
   "source": [
    "### **Direct Element Assignment**"
   ]
  },
  {
   "cell_type": "markdown",
   "id": "f385cdea",
   "metadata": {
    "papermill": {
     "duration": 0.003318,
     "end_time": "2025-06-29T07:56:13.201204",
     "exception": false,
     "start_time": "2025-06-29T07:56:13.197886",
     "status": "completed"
    },
    "tags": []
   },
   "source": [
    "Changing one specific value"
   ]
  },
  {
   "cell_type": "code",
   "execution_count": 3,
   "id": "8bc91586",
   "metadata": {
    "execution": {
     "iopub.execute_input": "2025-06-29T07:56:13.209655Z",
     "iopub.status.busy": "2025-06-29T07:56:13.209367Z",
     "iopub.status.idle": "2025-06-29T07:56:13.216936Z",
     "shell.execute_reply": "2025-06-29T07:56:13.216263Z"
    },
    "papermill": {
     "duration": 0.013221,
     "end_time": "2025-06-29T07:56:13.218106",
     "exception": false,
     "start_time": "2025-06-29T07:56:13.204885",
     "status": "completed"
    },
    "tags": []
   },
   "outputs": [
    {
     "data": {
      "text/plain": [
       "array([[[ 100,  200,  300],\n",
       "        [ 400,  500,    1]],\n",
       "\n",
       "       [[ 719,  819,  919],\n",
       "        [1019, 1119, 1129]]])"
      ]
     },
     "execution_count": 3,
     "metadata": {},
     "output_type": "execute_result"
    }
   ],
   "source": [
    "# this is easy, same as we did in indexing\n",
    "\n",
    "assign_1d [7] = 999 # changes the 7th index or 8th element -> from 80 to 999\n",
    "assign_1d\n",
    "\n",
    "assign_2d [1, -1] = 918 # changes the last element of the 2nd row -> from 8 to 918\n",
    "assign_2d\n",
    "\n",
    "assign_3d [0, 1, 2] = 1 # changes the 3rd element located in second row of 1st slice -> from 600 to 1\n",
    "assign_3d"
   ]
  },
  {
   "cell_type": "markdown",
   "id": "aa43607d",
   "metadata": {
    "papermill": {
     "duration": 0.003539,
     "end_time": "2025-06-29T07:56:13.225487",
     "exception": false,
     "start_time": "2025-06-29T07:56:13.221948",
     "status": "completed"
    },
    "tags": []
   },
   "source": [
    "### **Slice Assignment**"
   ]
  },
  {
   "cell_type": "markdown",
   "id": "3ef4e49c",
   "metadata": {
    "papermill": {
     "duration": 0.004451,
     "end_time": "2025-06-29T07:56:13.233554",
     "exception": false,
     "start_time": "2025-06-29T07:56:13.229103",
     "status": "completed"
    },
    "tags": []
   },
   "source": [
    "What if we want to change the multiple values at once? Like entire rows or from x-index to y-index?"
   ]
  },
  {
   "cell_type": "code",
   "execution_count": 4,
   "id": "b6321e8b",
   "metadata": {
    "execution": {
     "iopub.execute_input": "2025-06-29T07:56:13.242023Z",
     "iopub.status.busy": "2025-06-29T07:56:13.241706Z",
     "iopub.status.idle": "2025-06-29T07:56:13.246897Z",
     "shell.execute_reply": "2025-06-29T07:56:13.246015Z"
    },
    "papermill": {
     "duration": 0.010963,
     "end_time": "2025-06-29T07:56:13.248158",
     "exception": false,
     "start_time": "2025-06-29T07:56:13.237195",
     "status": "completed"
    },
    "tags": []
   },
   "outputs": [
    {
     "name": "stdout",
     "output_type": "stream",
     "text": [
      "1d: [ 10  20  30  40  50  60  70 999  90 100]\n",
      "2d: [[  1   2   3   4]\n",
      " [  5   6   7 918]\n",
      " [  9  10  11  12]]\n",
      "3d: [[[ 100  200  300]\n",
      "  [ 400  500    1]]\n",
      "\n",
      " [[ 719  819  919]\n",
      "  [1019 1119 1129]]]\n"
     ]
    }
   ],
   "source": [
    "print(f\"1d: {assign_1d}\")\n",
    "print(f\"2d: {assign_2d}\")\n",
    "print(f\"3d: {assign_3d}\")"
   ]
  },
  {
   "cell_type": "code",
   "execution_count": 5,
   "id": "85870fbe",
   "metadata": {
    "execution": {
     "iopub.execute_input": "2025-06-29T07:56:13.257375Z",
     "iopub.status.busy": "2025-06-29T07:56:13.257052Z",
     "iopub.status.idle": "2025-06-29T07:56:13.263122Z",
     "shell.execute_reply": "2025-06-29T07:56:13.262393Z"
    },
    "papermill": {
     "duration": 0.012053,
     "end_time": "2025-06-29T07:56:13.264356",
     "exception": false,
     "start_time": "2025-06-29T07:56:13.252303",
     "status": "completed"
    },
    "tags": []
   },
   "outputs": [
    {
     "data": {
      "text/plain": [
       "array([[[ 100,  200,  300],\n",
       "        [   1,    1,    1]],\n",
       "\n",
       "       [[ 719,  819,  919],\n",
       "        [1019, 1119, 1129]]])"
      ]
     },
     "execution_count": 5,
     "metadata": {},
     "output_type": "execute_result"
    }
   ],
   "source": [
    "# this is same as i read on slicing in reading-array\n",
    "\n",
    "assign_1d [0:3] = 39 # gives updated array with changed value of 39 in index 1, 2 and 3\n",
    "assign_1d\n",
    "\n",
    "assign_2d [:, 2] = 44 # gives updated array with changed value of 44 in 2nd index of all rows\n",
    "assign_2d\n",
    "\n",
    "assign_3d [0, 1, 0:2] = [1, 1] # changed value of [1, 1] in 0 and 1 index of 2nd row of 1st slice\n",
    "assign_3d"
   ]
  },
  {
   "cell_type": "markdown",
   "id": "3673504e",
   "metadata": {
    "papermill": {
     "duration": 0.003762,
     "end_time": "2025-06-29T07:56:13.272217",
     "exception": false,
     "start_time": "2025-06-29T07:56:13.268455",
     "status": "completed"
    },
    "tags": []
   },
   "source": [
    "### **Boolean Mask Assignment**"
   ]
  },
  {
   "cell_type": "markdown",
   "id": "4a430a8e",
   "metadata": {
    "papermill": {
     "duration": 0.003693,
     "end_time": "2025-06-29T07:56:13.280357",
     "exception": false,
     "start_time": "2025-06-29T07:56:13.276664",
     "status": "completed"
    },
    "tags": []
   },
   "source": [
    "Changing values based on a condition."
   ]
  },
  {
   "cell_type": "code",
   "execution_count": 6,
   "id": "72712218",
   "metadata": {
    "execution": {
     "iopub.execute_input": "2025-06-29T07:56:13.289331Z",
     "iopub.status.busy": "2025-06-29T07:56:13.289029Z",
     "iopub.status.idle": "2025-06-29T07:56:13.294182Z",
     "shell.execute_reply": "2025-06-29T07:56:13.293440Z"
    },
    "papermill": {
     "duration": 0.011227,
     "end_time": "2025-06-29T07:56:13.295411",
     "exception": false,
     "start_time": "2025-06-29T07:56:13.284184",
     "status": "completed"
    },
    "tags": []
   },
   "outputs": [
    {
     "name": "stdout",
     "output_type": "stream",
     "text": [
      "1d: [ 39  39  39  40  50  60  70 999  90 100]\n",
      "2d: [[  1   2  44   4]\n",
      " [  5   6  44 918]\n",
      " [  9  10  44  12]]\n",
      "3d: [[[ 100  200  300]\n",
      "  [   1    1    1]]\n",
      "\n",
      " [[ 719  819  919]\n",
      "  [1019 1119 1129]]]\n"
     ]
    }
   ],
   "source": [
    "print(f\"1d: {assign_1d}\")\n",
    "print(f\"2d: {assign_2d}\")\n",
    "print(f\"3d: {assign_3d}\")"
   ]
  },
  {
   "cell_type": "code",
   "execution_count": 7,
   "id": "fcd6e67a",
   "metadata": {
    "execution": {
     "iopub.execute_input": "2025-06-29T07:56:13.304621Z",
     "iopub.status.busy": "2025-06-29T07:56:13.304358Z",
     "iopub.status.idle": "2025-06-29T07:56:13.311666Z",
     "shell.execute_reply": "2025-06-29T07:56:13.310916Z"
    },
    "papermill": {
     "duration": 0.013538,
     "end_time": "2025-06-29T07:56:13.312975",
     "exception": false,
     "start_time": "2025-06-29T07:56:13.299437",
     "status": "completed"
    },
    "tags": []
   },
   "outputs": [
    {
     "data": {
      "text/plain": [
       "array([[1, 1, 1, 1],\n",
       "       [1, 1, 1, 1],\n",
       "       [1, 1, 1, 1]])"
      ]
     },
     "execution_count": 7,
     "metadata": {},
     "output_type": "execute_result"
    }
   ],
   "source": [
    "# this is also same as boolean indexing i read\n",
    "\n",
    "assign_1d [assign_1d != 39] = 0\n",
    "assign_1d\n",
    "\n",
    "assign_2d [(assign_2d [1, 2] > 20) & (assign_2d [-1, 1] < 10)] = 0\n",
    "assign_2d\n",
    "\n",
    "assign_2d [(assign_2d [:, 2] == 0) | (assign_2d [:, 2] < 50)] = 1\n",
    "assign_2d"
   ]
  },
  {
   "cell_type": "markdown",
   "id": "cda03c76",
   "metadata": {
    "papermill": {
     "duration": 0.00385,
     "end_time": "2025-06-29T07:56:13.321019",
     "exception": false,
     "start_time": "2025-06-29T07:56:13.317169",
     "status": "completed"
    },
    "tags": []
   },
   "source": [
    "## **2. Reshaping and Dimension Manipulation**"
   ]
  },
  {
   "cell_type": "markdown",
   "id": "1568a5be",
   "metadata": {
    "papermill": {
     "duration": 0.003915,
     "end_time": "2025-06-29T07:56:13.329300",
     "exception": false,
     "start_time": "2025-06-29T07:56:13.325385",
     "status": "completed"
    },
    "tags": []
   },
   "source": [
    "- changing an array's shape and flattening the arr >= 2 to 1d array\n",
    "- adding new dimension/s\n",
    "- transposing"
   ]
  },
  {
   "cell_type": "markdown",
   "id": "eca69fb4",
   "metadata": {
    "papermill": {
     "duration": 0.003822,
     "end_time": "2025-06-29T07:56:13.337089",
     "exception": false,
     "start_time": "2025-06-29T07:56:13.333267",
     "status": "completed"
    },
    "tags": []
   },
   "source": [
    "### **Changing Array Shape**"
   ]
  },
  {
   "cell_type": "code",
   "execution_count": 8,
   "id": "7bf504f7",
   "metadata": {
    "execution": {
     "iopub.execute_input": "2025-06-29T07:56:13.346995Z",
     "iopub.status.busy": "2025-06-29T07:56:13.346075Z",
     "iopub.status.idle": "2025-06-29T07:56:13.352139Z",
     "shell.execute_reply": "2025-06-29T07:56:13.351276Z"
    },
    "papermill": {
     "duration": 0.012339,
     "end_time": "2025-06-29T07:56:13.353442",
     "exception": false,
     "start_time": "2025-06-29T07:56:13.341103",
     "status": "completed"
    },
    "tags": []
   },
   "outputs": [
    {
     "name": "stdout",
     "output_type": "stream",
     "text": [
      "[ 0  1  2  3  4  5  6  7  8  9 10 11 12 13 14 15 16 17 18 19 20 21 22 23]\n",
      "[[ 0  1  2  3  4  5]\n",
      " [ 6  7  8  9 10 11]\n",
      " [12 13 14 15 16 17]\n",
      " [18 19 20 21 22 23]]\n",
      "[[[ 0  1  2  3]\n",
      "  [ 4  5  6  7]\n",
      "  [ 8  9 10 11]]\n",
      "\n",
      " [[12 13 14 15]\n",
      "  [16 17 18 19]\n",
      "  [20 21 22 23]]]\n"
     ]
    }
   ],
   "source": [
    "arr_1d = np.arange(24) # 1d array from 0 to 23\n",
    "arr_2d = np.arange(24).reshape(4, 6) # 2d array with 4 rows and 6 comlumns each from 0 to 23\n",
    "arr_3d = np.arange(24).reshape(2, 3, 4) # 3d array with 2 slices, 3 rows each and 4 columns\n",
    "\n",
    "print(arr_1d)\n",
    "print(arr_2d)\n",
    "print(arr_3d)"
   ]
  },
  {
   "cell_type": "code",
   "execution_count": 9,
   "id": "a7170242",
   "metadata": {
    "execution": {
     "iopub.execute_input": "2025-06-29T07:56:13.363320Z",
     "iopub.status.busy": "2025-06-29T07:56:13.362601Z",
     "iopub.status.idle": "2025-06-29T07:56:13.369118Z",
     "shell.execute_reply": "2025-06-29T07:56:13.368354Z"
    },
    "papermill": {
     "duration": 0.012704,
     "end_time": "2025-06-29T07:56:13.370418",
     "exception": false,
     "start_time": "2025-06-29T07:56:13.357714",
     "status": "completed"
    },
    "tags": []
   },
   "outputs": [
    {
     "data": {
      "text/plain": [
       "array([[[ 0,  1],\n",
       "        [ 2,  3],\n",
       "        [ 4,  5]],\n",
       "\n",
       "       [[ 6,  7],\n",
       "        [ 8,  9],\n",
       "        [10, 11]],\n",
       "\n",
       "       [[12, 13],\n",
       "        [14, 15],\n",
       "        [16, 17]],\n",
       "\n",
       "       [[18, 19],\n",
       "        [20, 21],\n",
       "        [22, 23]]])"
      ]
     },
     "execution_count": 9,
     "metadata": {},
     "output_type": "execute_result"
    }
   ],
   "source": [
    "# changing the shape of 1d array to 2d and 3d array\n",
    "\n",
    "# using .reshape()\n",
    "\n",
    "one_2d = arr_1d.reshape(2, 12) # 2 rows, 12 columns each\n",
    "one_2d\n",
    "\n",
    "one_2d_1 = arr_1d.reshape(3, 8) # 3 rows, 8 columns each\n",
    "one_2d_1\n",
    "\n",
    "one_2d_2 = arr_1d.reshape(12, 2) # 12 rows, 2 columns each\n",
    "one_2d_2\n",
    "\n",
    "one_3d = arr_1d.reshape(2, 4, 3) # 2 slices, 4 rows each with 3 columns\n",
    "one_3d\n",
    "\n",
    "one_3d_1 = arr_1d.reshape(4, 3, 2) # 4 slices, 3 rows each with 2 columns\n",
    "one_3d_1"
   ]
  },
  {
   "cell_type": "code",
   "execution_count": 10,
   "id": "e60b6b14",
   "metadata": {
    "execution": {
     "iopub.execute_input": "2025-06-29T07:56:13.380806Z",
     "iopub.status.busy": "2025-06-29T07:56:13.380063Z",
     "iopub.status.idle": "2025-06-29T07:56:13.387101Z",
     "shell.execute_reply": "2025-06-29T07:56:13.386214Z"
    },
    "papermill": {
     "duration": 0.013689,
     "end_time": "2025-06-29T07:56:13.388469",
     "exception": false,
     "start_time": "2025-06-29T07:56:13.374780",
     "status": "completed"
    },
    "tags": []
   },
   "outputs": [
    {
     "data": {
      "text/plain": [
       "array([ 0,  1,  2,  3,  4,  5,  6,  7,  8,  9, 10, 11, 12, 13, 14, 15, 16,\n",
       "       17, 18, 19, 20, 21, 22, 23])"
      ]
     },
     "execution_count": 10,
     "metadata": {},
     "output_type": "execute_result"
    }
   ],
   "source": [
    "# 2d to 3d and 1d\n",
    "\n",
    "two_3d = arr_2d.reshape(3, 4, 2)\n",
    "two_3d\n",
    "\n",
    "two_3d_1 = arr_2d.reshape(6, 2, 2)\n",
    "two_3d_1\n",
    "\n",
    "# 2d to 1d\n",
    "\n",
    "# we can use either .ravel() or .flatten() or .reshape(-1)\n",
    "\n",
    "two_1d = arr_2d.ravel()\n",
    "two_1d\n",
    "\n",
    "two_1d_1 = arr_2d.flatten()\n",
    "two_1d_1\n",
    "\n",
    "two_1d_2 = arr_2d.reshape(-1)\n",
    "two_1d_2"
   ]
  },
  {
   "cell_type": "code",
   "execution_count": 11,
   "id": "d51b0d03",
   "metadata": {
    "execution": {
     "iopub.execute_input": "2025-06-29T07:56:13.398753Z",
     "iopub.status.busy": "2025-06-29T07:56:13.398259Z",
     "iopub.status.idle": "2025-06-29T07:56:13.404025Z",
     "shell.execute_reply": "2025-06-29T07:56:13.403264Z"
    },
    "papermill": {
     "duration": 0.012228,
     "end_time": "2025-06-29T07:56:13.405304",
     "exception": false,
     "start_time": "2025-06-29T07:56:13.393076",
     "status": "completed"
    },
    "tags": []
   },
   "outputs": [
    {
     "data": {
      "text/plain": [
       "array([ 0,  1,  2,  3,  4,  5,  6,  7,  8,  9, 10, 11, 12, 13, 14, 15, 16,\n",
       "       17, 18, 19, 20, 21, 22, 23])"
      ]
     },
     "execution_count": 11,
     "metadata": {},
     "output_type": "execute_result"
    }
   ],
   "source": [
    "# 3d to 2d\n",
    "\n",
    "three_2d = arr_3d.reshape(6, 4)\n",
    "three_2d\n",
    "\n",
    "three_2d_1 = arr_3d.reshape(4, 6)\n",
    "three_2d_1\n",
    "\n",
    "# 3d to 1d\n",
    "\n",
    "three_1d = arr_3d.reshape(-1)\n",
    "three_1d\n",
    "\n",
    "# we can also use .ravel and .flatten"
   ]
  },
  {
   "cell_type": "markdown",
   "id": "49d536dd",
   "metadata": {
    "papermill": {
     "duration": 0.004298,
     "end_time": "2025-06-29T07:56:13.414208",
     "exception": false,
     "start_time": "2025-06-29T07:56:13.409910",
     "status": "completed"
    },
    "tags": []
   },
   "source": [
    "### **Adding new Dimensions**"
   ]
  },
  {
   "cell_type": "code",
   "execution_count": null,
   "id": "30f63e3d",
   "metadata": {
    "papermill": {
     "duration": 0.004077,
     "end_time": "2025-06-29T07:56:13.422628",
     "exception": false,
     "start_time": "2025-06-29T07:56:13.418551",
     "status": "completed"
    },
    "tags": []
   },
   "outputs": [],
   "source": []
  }
 ],
 "metadata": {
  "kaggle": {
   "accelerator": "none",
   "dataSources": [],
   "dockerImageVersionId": 31040,
   "isGpuEnabled": false,
   "isInternetEnabled": false,
   "language": "python",
   "sourceType": "notebook"
  },
  "kernelspec": {
   "display_name": "Python 3",
   "language": "python",
   "name": "python3"
  },
  "language_info": {
   "codemirror_mode": {
    "name": "ipython",
    "version": 3
   },
   "file_extension": ".py",
   "mimetype": "text/x-python",
   "name": "python",
   "nbconvert_exporter": "python",
   "pygments_lexer": "ipython3",
   "version": "3.11.11"
  },
  "papermill": {
   "default_parameters": {},
   "duration": 5.037699,
   "end_time": "2025-06-29T07:56:13.745421",
   "environment_variables": {},
   "exception": null,
   "input_path": "__notebook__.ipynb",
   "output_path": "__notebook__.ipynb",
   "parameters": {},
   "start_time": "2025-06-29T07:56:08.707722",
   "version": "2.6.0"
  }
 },
 "nbformat": 4,
 "nbformat_minor": 5
}
