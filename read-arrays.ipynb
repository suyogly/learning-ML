{
 "cells": [
  {
   "cell_type": "markdown",
   "id": "793a761b",
   "metadata": {
    "papermill": {
     "duration": 0.004853,
     "end_time": "2025-06-27T15:44:36.604293",
     "exception": false,
     "start_time": "2025-06-27T15:44:36.599440",
     "status": "completed"
    },
    "tags": []
   },
   "source": [
    "# **READ Arrays**"
   ]
  },
  {
   "cell_type": "markdown",
   "id": "5a2b8afd",
   "metadata": {
    "papermill": {
     "duration": 0.003745,
     "end_time": "2025-06-27T15:44:36.612324",
     "exception": false,
     "start_time": "2025-06-27T15:44:36.608579",
     "status": "completed"
    },
    "tags": []
   },
   "source": [
    "Basically now that I have studied different methods to create arrays, now it's time to read the array"
   ]
  },
  {
   "cell_type": "code",
   "execution_count": 1,
   "id": "b22deca1",
   "metadata": {
    "execution": {
     "iopub.execute_input": "2025-06-27T15:44:36.621760Z",
     "iopub.status.busy": "2025-06-27T15:44:36.621447Z",
     "iopub.status.idle": "2025-06-27T15:44:36.628718Z",
     "shell.execute_reply": "2025-06-27T15:44:36.628052Z"
    },
    "papermill": {
     "duration": 0.013866,
     "end_time": "2025-06-27T15:44:36.630259",
     "exception": false,
     "start_time": "2025-06-27T15:44:36.616393",
     "status": "completed"
    },
    "tags": []
   },
   "outputs": [],
   "source": [
    "import numpy as np"
   ]
  },
  {
   "cell_type": "markdown",
   "id": "5b5ed8a8",
   "metadata": {
    "papermill": {
     "duration": 0.003775,
     "end_time": "2025-06-27T15:44:36.638195",
     "exception": false,
     "start_time": "2025-06-27T15:44:36.634420",
     "status": "completed"
    },
    "tags": []
   },
   "source": [
    "## **Inspecting Arrays**"
   ]
  },
  {
   "cell_type": "markdown",
   "id": "a576439c",
   "metadata": {
    "papermill": {
     "duration": 0.003503,
     "end_time": "2025-06-27T15:44:36.645549",
     "exception": false,
     "start_time": "2025-06-27T15:44:36.642046",
     "status": "completed"
    },
    "tags": []
   },
   "source": [
    "This is crucial because we need to know what type of array/dataset it is, before modifying it. It also helps to debug the issues."
   ]
  },
  {
   "cell_type": "code",
   "execution_count": 2,
   "id": "77aed257",
   "metadata": {
    "execution": {
     "iopub.execute_input": "2025-06-27T15:44:36.654346Z",
     "iopub.status.busy": "2025-06-27T15:44:36.654031Z",
     "iopub.status.idle": "2025-06-27T15:44:36.659391Z",
     "shell.execute_reply": "2025-06-27T15:44:36.658507Z"
    },
    "papermill": {
     "duration": 0.011459,
     "end_time": "2025-06-27T15:44:36.660792",
     "exception": false,
     "start_time": "2025-06-27T15:44:36.649333",
     "status": "completed"
    },
    "tags": []
   },
   "outputs": [],
   "source": [
    "ins_1d = np.array([10, 20, 30, 40, 50, 60, 70, 80, 90, 100]) #1d array\n",
    "\n",
    "ins_2d = np.array([ #2d array\n",
    "    [1, 2, 3, 4],\n",
    "    [5, 6, 7, 8],\n",
    "    [9, 10, 11, 12]\n",
    "])\n",
    "\n",
    "ins_3d = np.array([ #3d array\n",
    "    [[100, 200, 300],\n",
    "        [400, 500, 600]],\n",
    "\n",
    "    [[719, 819, 919],\n",
    "    [1019, 1119, 1129]]\n",
    "])"
   ]
  },
  {
   "cell_type": "code",
   "execution_count": 3,
   "id": "1cd89938",
   "metadata": {
    "execution": {
     "iopub.execute_input": "2025-06-27T15:44:36.669997Z",
     "iopub.status.busy": "2025-06-27T15:44:36.669705Z",
     "iopub.status.idle": "2025-06-27T15:44:36.675769Z",
     "shell.execute_reply": "2025-06-27T15:44:36.674719Z"
    },
    "papermill": {
     "duration": 0.012291,
     "end_time": "2025-06-27T15:44:36.677156",
     "exception": false,
     "start_time": "2025-06-27T15:44:36.664865",
     "status": "completed"
    },
    "tags": []
   },
   "outputs": [
    {
     "name": "stdout",
     "output_type": "stream",
     "text": [
      "class:  ndarray\n",
      "shape:  (2, 2, 3)\n",
      "strides:  (48, 24, 8)\n",
      "itemsize:  8\n",
      "aligned:  True\n",
      "contiguous:  True\n",
      "fortran:  False\n",
      "data pointer: 0xe9cdb90\n",
      "byteorder:  little\n",
      "byteswap:  False\n",
      "type: int64\n"
     ]
    }
   ],
   "source": [
    "# ways to inspect array:\n",
    "ins_1d.shape # gives (10,) which basically says 10 columns\n",
    "ins_1d.ndim # gives the number of dimensions/axes of the given array which in this case is only 1\n",
    "ins_1d.size # total numbers of element present in the array -> 10\n",
    "ins_1d.dtype # gives the type of data present in the array. since the array can hold only one data type\n",
    "ins_2d.ravel() # flattens the array.ndim >= 2 into 1d array\n",
    "ins_2d.T # gives the transpose of the array -> places rows as columns and vice versa\n",
    "ins_2d.copy() # prints the deep (new) copy of the array and doesnt change the main array\n",
    "ins_2d.view() # prints the copy of the array but changes made here will change the original array\n",
    "np.info(ins_3d) # gives each and every detail of that array"
   ]
  },
  {
   "cell_type": "code",
   "execution_count": 4,
   "id": "bac42914",
   "metadata": {
    "execution": {
     "iopub.execute_input": "2025-06-27T15:44:36.687161Z",
     "iopub.status.busy": "2025-06-27T15:44:36.686292Z",
     "iopub.status.idle": "2025-06-27T15:44:36.691833Z",
     "shell.execute_reply": "2025-06-27T15:44:36.690955Z"
    },
    "papermill": {
     "duration": 0.012089,
     "end_time": "2025-06-27T15:44:36.693429",
     "exception": false,
     "start_time": "2025-06-27T15:44:36.681340",
     "status": "completed"
    },
    "tags": []
   },
   "outputs": [],
   "source": [
    "data_1d = np.array([10, 20, 30, 40, 50, 60, 70, 80, 90, 100]) #1d array\n",
    "\n",
    "data_2d = np.array([ #2d array\n",
    "    [1, 2, 3, 4],\n",
    "    [5, 6, 7, 8],\n",
    "    [9, 10, 11, 12]\n",
    "])\n",
    "\n",
    "data_3d = np.array([ #3d array\n",
    "    [[100, 200, 300],\n",
    "        [400, 500, 600]],\n",
    "\n",
    "    [[719, 819, 919],\n",
    "    [1019, 1119, 1129]]\n",
    "])"
   ]
  },
  {
   "cell_type": "markdown",
   "id": "4f22b9af",
   "metadata": {
    "papermill": {
     "duration": 0.003772,
     "end_time": "2025-06-27T15:44:36.701487",
     "exception": false,
     "start_time": "2025-06-27T15:44:36.697715",
     "status": "completed"
    },
    "tags": []
   },
   "source": [
    "## **Indexing**"
   ]
  },
  {
   "cell_type": "markdown",
   "id": "9f899836",
   "metadata": {
    "papermill": {
     "duration": 0.003907,
     "end_time": "2025-06-27T15:44:36.709511",
     "exception": false,
     "start_time": "2025-06-27T15:44:36.705604",
     "status": "completed"
    },
    "tags": []
   },
   "source": [
    "Use when the data point is given or known, and when we need to retieve only one value from the array"
   ]
  },
  {
   "cell_type": "code",
   "execution_count": 5,
   "id": "bf004cb1",
   "metadata": {
    "execution": {
     "iopub.execute_input": "2025-06-27T15:44:36.719770Z",
     "iopub.status.busy": "2025-06-27T15:44:36.718932Z",
     "iopub.status.idle": "2025-06-27T15:44:36.725454Z",
     "shell.execute_reply": "2025-06-27T15:44:36.724674Z"
    },
    "papermill": {
     "duration": 0.012852,
     "end_time": "2025-06-27T15:44:36.726731",
     "exception": false,
     "start_time": "2025-06-27T15:44:36.713879",
     "status": "completed"
    },
    "tags": []
   },
   "outputs": [
    {
     "data": {
      "text/plain": [
       "50"
      ]
     },
     "execution_count": 5,
     "metadata": {},
     "output_type": "execute_result"
    }
   ],
   "source": [
    "# indexing 1d arrays is simple as indexing in lists\n",
    "\n",
    "data_1d[0] # gives first value -> 10, and in most of the language, first item is indexed by 0 not 1\n",
    "data_1d[-1] # gives last value -> 100\n",
    "data_1d[4] # 5th value\n"
   ]
  },
  {
   "cell_type": "code",
   "execution_count": 6,
   "id": "a79a1e65",
   "metadata": {
    "execution": {
     "iopub.execute_input": "2025-06-27T15:44:36.736235Z",
     "iopub.status.busy": "2025-06-27T15:44:36.735904Z",
     "iopub.status.idle": "2025-06-27T15:44:36.741847Z",
     "shell.execute_reply": "2025-06-27T15:44:36.740944Z"
    },
    "papermill": {
     "duration": 0.01233,
     "end_time": "2025-06-27T15:44:36.743327",
     "exception": false,
     "start_time": "2025-06-27T15:44:36.730997",
     "status": "completed"
    },
    "tags": []
   },
   "outputs": [
    {
     "data": {
      "text/plain": [
       "11"
      ]
     },
     "execution_count": 6,
     "metadata": {},
     "output_type": "execute_result"
    }
   ],
   "source": [
    "# indexing 2d arrays\n",
    "\n",
    "# since this is a 2d array, we have 2 dimensions. first we need to get the desired row and then only the column\n",
    "\n",
    "data_2d[0][3] # depicts 1st row and 4th column (0 is first, 3 is fourth) gives -> 4\n",
    "data_2d[2][2] # 3rd row 3rd column/data -> 11"
   ]
  },
  {
   "cell_type": "code",
   "execution_count": 7,
   "id": "4472e96b",
   "metadata": {
    "execution": {
     "iopub.execute_input": "2025-06-27T15:44:36.753527Z",
     "iopub.status.busy": "2025-06-27T15:44:36.752745Z",
     "iopub.status.idle": "2025-06-27T15:44:36.758210Z",
     "shell.execute_reply": "2025-06-27T15:44:36.757512Z"
    },
    "papermill": {
     "duration": 0.011834,
     "end_time": "2025-06-27T15:44:36.759573",
     "exception": false,
     "start_time": "2025-06-27T15:44:36.747739",
     "status": "completed"
    },
    "tags": []
   },
   "outputs": [
    {
     "data": {
      "text/plain": [
       "300"
      ]
     },
     "execution_count": 7,
     "metadata": {},
     "output_type": "execute_result"
    }
   ],
   "source": [
    "# indexing 3d arrays\n",
    "\n",
    "# same as 2d array but with one extra layer of indexing, here we give 3 arguments and first one is slice, second and third are rows and columns respectively\n",
    "\n",
    "data_3d[0][0][2] # first slice, first row, third column -> 300"
   ]
  },
  {
   "cell_type": "markdown",
   "id": "05ab792a",
   "metadata": {
    "papermill": {
     "duration": 0.004093,
     "end_time": "2025-06-27T15:44:36.768084",
     "exception": false,
     "start_time": "2025-06-27T15:44:36.763991",
     "status": "completed"
    },
    "tags": []
   },
   "source": [
    "## **Slicing Arrays**"
   ]
  },
  {
   "cell_type": "markdown",
   "id": "f232dcd8",
   "metadata": {
    "papermill": {
     "duration": 0.004456,
     "end_time": "2025-06-27T15:44:36.776802",
     "exception": false,
     "start_time": "2025-06-27T15:44:36.772346",
     "status": "completed"
    },
    "tags": []
   },
   "source": [
    "Slicing is used when we need to slice the array from A to B. It changes the value of original array, so we won't be directly slicing the arrays, instead we will use the variable to store the sliced array."
   ]
  },
  {
   "cell_type": "markdown",
   "id": "64293b70",
   "metadata": {
    "papermill": {
     "duration": 0.003985,
     "end_time": "2025-06-27T15:44:36.785395",
     "exception": false,
     "start_time": "2025-06-27T15:44:36.781410",
     "status": "completed"
    },
    "tags": []
   },
   "source": [
    "Use when you need to see the contigious number of arrays, like from x index to y index"
   ]
  },
  {
   "cell_type": "code",
   "execution_count": 8,
   "id": "9520e78b",
   "metadata": {
    "execution": {
     "iopub.execute_input": "2025-06-27T15:44:36.795156Z",
     "iopub.status.busy": "2025-06-27T15:44:36.794822Z",
     "iopub.status.idle": "2025-06-27T15:44:36.801153Z",
     "shell.execute_reply": "2025-06-27T15:44:36.800389Z"
    },
    "papermill": {
     "duration": 0.012982,
     "end_time": "2025-06-27T15:44:36.802619",
     "exception": false,
     "start_time": "2025-06-27T15:44:36.789637",
     "status": "completed"
    },
    "tags": []
   },
   "outputs": [],
   "source": [
    "slice_1d = np.array([10, 20, 30, 40, 50, 60, 70, 80, 90, 100]) #1d array\n",
    "\n",
    "slice_2d = np.array([ #2d array\n",
    "    [1, 2, 3, 4],\n",
    "    [5, 6, 7, 8],\n",
    "    [9, 10, 11, 12]\n",
    "])\n",
    "\n",
    "slice_3d = np.array([ #3d array\n",
    "    [[1002, 200, 300, 283782, 72632],\n",
    "    [400, 500, 600, 238723, 2376237],\n",
    "    [99999, 89898, 989898, 93983298, 23723]],\n",
    "\n",
    "    [[719, 819, 919, 5678, 999],\n",
    "    [1019, 1119, 1129, 100, 7777],\n",
    "    [263723, 238723, 2365, 237632, 37632]],\n",
    "\n",
    "    [[7149, 8419, 91349, 567348, 999],\n",
    "    [101439, 134119, 143129, 12300, 723777],\n",
    "    [2633443723, 23834723, 2365, 23742632, 276238]]\n",
    "])"
   ]
  },
  {
   "cell_type": "code",
   "execution_count": 9,
   "id": "40726208",
   "metadata": {
    "execution": {
     "iopub.execute_input": "2025-06-27T15:44:36.813023Z",
     "iopub.status.busy": "2025-06-27T15:44:36.812672Z",
     "iopub.status.idle": "2025-06-27T15:44:36.820539Z",
     "shell.execute_reply": "2025-06-27T15:44:36.819772Z"
    },
    "papermill": {
     "duration": 0.014687,
     "end_time": "2025-06-27T15:44:36.821913",
     "exception": false,
     "start_time": "2025-06-27T15:44:36.807226",
     "status": "completed"
    },
    "tags": []
   },
   "outputs": [
    {
     "data": {
      "text/plain": [
       "array([100,  90,  80,  70,  60,  50,  40,  30,  20,  10])"
      ]
     },
     "execution_count": 9,
     "metadata": {},
     "output_type": "execute_result"
    }
   ],
   "source": [
    "# slicing 1d array\n",
    "\n",
    "# arr[start:stop]\n",
    "sliced_1d = slice_1d[0:3] # gives the array from index 0 to index 2, or first element to 3rd element -> [10, 20, 30]\n",
    "sliced_1d\n",
    "\n",
    "# arr[start:upto]\n",
    "sliced_1d_from_first = slice_1d[:6] # from 0 index to index 5 -> [10, 20, 30, 40, 50, 60]\n",
    "sliced_1d_from_first\n",
    "\n",
    "# arr[from:end]\n",
    "sliced_1d_to_last = slice_1d[6:] # from index 6 to last -> [70, 80, 90, 100]\n",
    "sliced_1d_to_last\n",
    "\n",
    "# arr[::step]\n",
    "sliced_1d_steps = slice_1d[::3] # stepping 3 from first number and on\n",
    "sliced_1d_steps\n",
    "\n",
    "# arr[::-1]\n",
    "sliced_1d_reverse = slice_1d[::-1] # reverse\n",
    "sliced_1d_reverse"
   ]
  },
  {
   "cell_type": "code",
   "execution_count": 10,
   "id": "1fb11851",
   "metadata": {
    "execution": {
     "iopub.execute_input": "2025-06-27T15:44:36.831973Z",
     "iopub.status.busy": "2025-06-27T15:44:36.831684Z",
     "iopub.status.idle": "2025-06-27T15:44:36.838779Z",
     "shell.execute_reply": "2025-06-27T15:44:36.838084Z"
    },
    "papermill": {
     "duration": 0.013718,
     "end_time": "2025-06-27T15:44:36.840143",
     "exception": false,
     "start_time": "2025-06-27T15:44:36.826425",
     "status": "completed"
    },
    "tags": []
   },
   "outputs": [
    {
     "data": {
      "text/plain": [
       "array([[ 1,  3],\n",
       "       [ 5,  7],\n",
       "       [ 9, 11]])"
      ]
     },
     "execution_count": 10,
     "metadata": {},
     "output_type": "execute_result"
    }
   ],
   "source": [
    "# slicing 2d array\n",
    "\n",
    "# accessing one row, all columns\n",
    "sliced_2d_one_row = slice_2d[1, :] # selects 1st row only and it's all columns, but if we add : after 1, it shows all rows and it's columns from index 1\n",
    "sliced_2d_one_row # [5, 6, 7, 8]\n",
    "\n",
    "# accessing one column, all rows\n",
    "sliced_2d_one_column = slice_2d[:, 1] # selects 2nd column of all the rows\n",
    "sliced_2d_one_column\n",
    "\n",
    "\n",
    "\n",
    "# arr[rows:columns], rectangular subset of the array\n",
    "sliced_2d = slice_2d[1:3, 1:3] # this means give rows 1 and 2, with it's columns 1 and 2\n",
    "sliced_2d\n",
    "\n",
    "sliced_2d_b = slice_2d[0:3, 3:4]\n",
    "sliced_2d_b\n",
    "\n",
    "# arr[::steps, ::steps]\n",
    "sliced_2d_steps = slice_2d[::2, ::2] # all row and column by 2 steps\n",
    "sliced_2d_steps\n",
    "\n",
    "sliced_2d_steps_row = slice_2d[1::2, :] # from row 2, show all rows with 2 steps and show all columns of those rows\n",
    "sliced_2d_steps_row\n",
    "\n",
    "sliced_2d_steps_column = slice_2d[0:3, ::2] # generate rows from row 1 to row 3 with their columns with 2 steps\n",
    "sliced_2d_steps_column"
   ]
  },
  {
   "cell_type": "code",
   "execution_count": 11,
   "id": "4ead79ec",
   "metadata": {
    "execution": {
     "iopub.execute_input": "2025-06-27T15:44:36.850586Z",
     "iopub.status.busy": "2025-06-27T15:44:36.850277Z",
     "iopub.status.idle": "2025-06-27T15:44:36.856558Z",
     "shell.execute_reply": "2025-06-27T15:44:36.855635Z"
    },
    "papermill": {
     "duration": 0.013174,
     "end_time": "2025-06-27T15:44:36.858069",
     "exception": false,
     "start_time": "2025-06-27T15:44:36.844895",
     "status": "completed"
    },
    "tags": []
   },
   "outputs": [
    {
     "data": {
      "text/plain": [
       "array([[[   200, 283782],\n",
       "        [   500, 238723]],\n",
       "\n",
       "       [[  8419, 567348],\n",
       "        [134119,  12300]]])"
      ]
     },
     "execution_count": 11,
     "metadata": {},
     "output_type": "execute_result"
    }
   ],
   "source": [
    "# slicing 3d array\n",
    "\n",
    "sliced_3d = slice_3d[1, 1, 0:2]\n",
    "sliced_3d\n",
    "\n",
    "sliced_3d_steps = slice_3d[::2, :2, 1::2]\n",
    "sliced_3d_steps"
   ]
  },
  {
   "cell_type": "markdown",
   "id": "ee1d7032",
   "metadata": {
    "papermill": {
     "duration": 0.004316,
     "end_time": "2025-06-27T15:44:36.867096",
     "exception": false,
     "start_time": "2025-06-27T15:44:36.862780",
     "status": "completed"
    },
    "tags": []
   },
   "source": [
    "## **Boolean Indexing**"
   ]
  },
  {
   "cell_type": "markdown",
   "id": "9648e6f8",
   "metadata": {
    "papermill": {
     "duration": 0.00427,
     "end_time": "2025-06-27T15:44:36.875941",
     "exception": false,
     "start_time": "2025-06-27T15:44:36.871671",
     "status": "completed"
    },
    "tags": []
   },
   "source": [
    "Use this when you need to know what numbers are present by performing Logics: is greater, is smaller, is equal, and, or, etc"
   ]
  },
  {
   "cell_type": "code",
   "execution_count": 12,
   "id": "2737d9c4",
   "metadata": {
    "execution": {
     "iopub.execute_input": "2025-06-27T15:44:36.886788Z",
     "iopub.status.busy": "2025-06-27T15:44:36.886029Z",
     "iopub.status.idle": "2025-06-27T15:44:36.892790Z",
     "shell.execute_reply": "2025-06-27T15:44:36.891963Z"
    },
    "papermill": {
     "duration": 0.013898,
     "end_time": "2025-06-27T15:44:36.894266",
     "exception": false,
     "start_time": "2025-06-27T15:44:36.880368",
     "status": "completed"
    },
    "tags": []
   },
   "outputs": [],
   "source": [
    "bool_1d = np.array([5, 12, 3, 20, 8, 15, 1, 18, 7, 10])\n",
    "\n",
    "bool_2d = np.array([\n",
    "    [100, 2, 50, 7, 10, 150, 1, 80, 25, 5],\n",
    "    [12, 1000, 3, 400, 5, 600, 7, 800, 9, 10],\n",
    "    [90, 8, 70, 6, 50, 4, 30, 2, 10, 0]\n",
    "])\n",
    "\n",
    "bool_3d = np.array([\n",
    "    [[1, 11, 21, 31, 41, 51, 61, 71, 81, 91],\n",
    "     [2, 12, 22, 32, 42, 52, 62, 72, 82, 92],\n",
    "     [3, 13, 23, 33, 43, 53, 63, 73, 83, 93]],\n",
    "\n",
    "    [[100, 200, 300, 400, 500, 600, 700, 800, 900, 1000],\n",
    "     [101, 201, 301, 401, 501, 601, 701, 801, 901, 1001],\n",
    "     [102, 202, 302, 402, 502, 602, 702, 802, 902, 1002]]\n",
    "])"
   ]
  },
  {
   "cell_type": "code",
   "execution_count": 13,
   "id": "35c0a98f",
   "metadata": {
    "execution": {
     "iopub.execute_input": "2025-06-27T15:44:36.904889Z",
     "iopub.status.busy": "2025-06-27T15:44:36.904582Z",
     "iopub.status.idle": "2025-06-27T15:44:36.914704Z",
     "shell.execute_reply": "2025-06-27T15:44:36.913861Z"
    },
    "papermill": {
     "duration": 0.016767,
     "end_time": "2025-06-27T15:44:36.915913",
     "exception": false,
     "start_time": "2025-06-27T15:44:36.899146",
     "status": "completed"
    },
    "tags": []
   },
   "outputs": [
    {
     "data": {
      "text/plain": [
       "array([12,  3, 20,  8, 15,  1, 18,  7, 10])"
      ]
     },
     "execution_count": 13,
     "metadata": {},
     "output_type": "execute_result"
    }
   ],
   "source": [
    "# Boolean indexing in 1d\n",
    "\n",
    "# >, <, = and !=\n",
    "great_9 = bool_1d[bool_1d > 9] # gives array with numbers greater than 9\n",
    "great_9\n",
    "\n",
    "less_9 = bool_1d[ bool_1d < 9 ] # gives array with numbers lesser than 9\n",
    "less_9\n",
    "\n",
    "equal_5 = bool_1d[ bool_1d == 5] # gives if there is/are number equal to 5\n",
    "equal_5\n",
    "\n",
    "except_5 = bool_1d [bool_1d != 5] # wow, i thought it will give true, but != is more like excluding the number\n",
    "except_5\n",
    "\n",
    "# we dont use \"and\", \"or\" here, we use &, | because we need to do element-wise operations in numpy boolean indexing\n",
    "\n",
    "# &, | and ~\n",
    "or_5_20 = bool_1d [(bool_1d == 5) | (bool_1d == 20)] # show if either of them is true (because we told it to find if number either is 5 or 20)\n",
    "or_5_20\n",
    "\n",
    "and_5_20 = bool_1d [(bool_1d == 5) & (bool_1d == 20)] # it shows nothing because number/numbers can't be both 5 and 20 at the same time\n",
    "and_5_20\n",
    "\n",
    "# but if..\n",
    "and_5_2 = bool_1d [(bool_1d < 5) & (bool_1d > 2)] # it gives result because number/numbers can be both greater than 2 and less than 5\n",
    "and_5_2\n",
    "\n",
    "# however..\n",
    "and_5_10 = bool_1d [(bool_1d < 5) & (bool_1d > 10)] # it will give nothing because number/numbers can't be less than 5 and greater than 10 at the same time... less than 5 is -inf to 4, but greater than 10 is 10 to +inf\n",
    "and_5_10\n",
    "\n",
    "not_5 = bool_1d [~(bool_1d == 5)] # excludes 5\n",
    "not_5"
   ]
  },
  {
   "cell_type": "code",
   "execution_count": 14,
   "id": "e40a4f06",
   "metadata": {
    "execution": {
     "iopub.execute_input": "2025-06-27T15:44:36.926597Z",
     "iopub.status.busy": "2025-06-27T15:44:36.926312Z",
     "iopub.status.idle": "2025-06-27T15:44:36.935159Z",
     "shell.execute_reply": "2025-06-27T15:44:36.934429Z"
    },
    "papermill": {
     "duration": 0.015768,
     "end_time": "2025-06-27T15:44:36.936485",
     "exception": false,
     "start_time": "2025-06-27T15:44:36.920717",
     "status": "completed"
    },
    "tags": []
   },
   "outputs": [
    {
     "data": {
      "text/plain": [
       "array([], shape=(0, 10), dtype=int64)"
      ]
     },
     "execution_count": 14,
     "metadata": {},
     "output_type": "execute_result"
    }
   ],
   "source": [
    "# 2d boolean indexing\n",
    "\n",
    "# by default boolean indexing creates the mask; arrray of true and false depending upon the logic. Then, to see the value, we print it and get the 1d array result.\n",
    "\n",
    "# >, <, =, !=\n",
    "great_2d = bool_2d [(bool_2d > 5)] # get all the values over 5\n",
    "great_2d\n",
    "\n",
    "great_2d_2 = bool_2d [bool_2d[:, 2] > 5] # get all rows where value of the column 1 is greater than 5\n",
    "great_2d_2\n",
    "\n",
    "## great_2d_3 = bool_2d [bool_2d[1] > 5] # get 1st row if it's greater than 5 (this gives error because bool_2d has (3, 10) shape, but the shape of (bool_2d[1] > 5) is (10,). so computer doesnt know which true is of which number since the mask is not same)\n",
    "## great_2d_3\n",
    "\n",
    "small_2d = bool_2d [bool_2d < 10]\n",
    "small_2d\n",
    "\n",
    "small_2d_2 = bool_2d [bool_2d[:, 3] < 9] # get all rows if the 4th column of the row is less than 9\n",
    "small_2d_2\n",
    "\n",
    "equal_2d = bool_2d [bool_2d[:, 0] == 100]\n",
    "equal_2d\n",
    "\n",
    "equal_100 = bool_2d [bool_2d == 100]\n",
    "equal_100\n",
    "\n",
    "or_2d = bool_2d [(bool_2d > 10) | (bool_2d < 5)]\n",
    "or_2d\n",
    "\n",
    "or_2d_2 = bool_2d [(bool_2d[:, 2] > 5) | (bool_2d[:, 7] < 20)]\n",
    "or_2d_2\n",
    "\n",
    "and_2d = bool_2d [(bool_2d > 20) & (bool_2d < 100)]\n",
    "and_2d\n",
    "\n",
    "and_2d_2 = bool_2d [(bool_2d[:, 2] > 10) & (bool_2d[:, 3] < 6)] # gives nothing because we dont have row which contains the both column2 > 10, and column 3 < 6\n",
    "and_2d_2\n"
   ]
  }
 ],
 "metadata": {
  "kaggle": {
   "accelerator": "none",
   "dataSources": [],
   "dockerImageVersionId": 31040,
   "isGpuEnabled": false,
   "isInternetEnabled": false,
   "language": "python",
   "sourceType": "notebook"
  },
  "kernelspec": {
   "display_name": "Python 3",
   "language": "python",
   "name": "python3"
  },
  "language_info": {
   "codemirror_mode": {
    "name": "ipython",
    "version": 3
   },
   "file_extension": ".py",
   "mimetype": "text/x-python",
   "name": "python",
   "nbconvert_exporter": "python",
   "pygments_lexer": "ipython3",
   "version": "3.11.11"
  },
  "papermill": {
   "default_parameters": {},
   "duration": 5.406895,
   "end_time": "2025-06-27T15:44:37.360142",
   "environment_variables": {},
   "exception": null,
   "input_path": "__notebook__.ipynb",
   "output_path": "__notebook__.ipynb",
   "parameters": {},
   "start_time": "2025-06-27T15:44:31.953247",
   "version": "2.6.0"
  }
 },
 "nbformat": 4,
 "nbformat_minor": 5
}
