{
 "cells": [
  {
   "cell_type": "markdown",
   "id": "76237623",
   "metadata": {
    "papermill": {
     "duration": 0.006113,
     "end_time": "2025-06-24T17:09:40.450180",
     "exception": false,
     "start_time": "2025-06-24T17:09:40.444067",
     "status": "completed"
    },
    "tags": []
   },
   "source": [
    "# **READ Arrays**"
   ]
  },
  {
   "cell_type": "markdown",
   "id": "23e17ddf",
   "metadata": {
    "papermill": {
     "duration": 0.003618,
     "end_time": "2025-06-24T17:09:40.458128",
     "exception": false,
     "start_time": "2025-06-24T17:09:40.454510",
     "status": "completed"
    },
    "tags": []
   },
   "source": [
    "Basically now that I have studied different methods to create arrays, now it's time to read the array"
   ]
  },
  {
   "cell_type": "code",
   "execution_count": 1,
   "id": "8ec028d1",
   "metadata": {
    "execution": {
     "iopub.execute_input": "2025-06-24T17:09:40.467809Z",
     "iopub.status.busy": "2025-06-24T17:09:40.467456Z",
     "iopub.status.idle": "2025-06-24T17:09:40.475546Z",
     "shell.execute_reply": "2025-06-24T17:09:40.474590Z"
    },
    "papermill": {
     "duration": 0.014916,
     "end_time": "2025-06-24T17:09:40.477199",
     "exception": false,
     "start_time": "2025-06-24T17:09:40.462283",
     "status": "completed"
    },
    "tags": []
   },
   "outputs": [],
   "source": [
    "import numpy as np"
   ]
  },
  {
   "cell_type": "code",
   "execution_count": 2,
   "id": "eaa4f3ba",
   "metadata": {
    "execution": {
     "iopub.execute_input": "2025-06-24T17:09:40.487026Z",
     "iopub.status.busy": "2025-06-24T17:09:40.486112Z",
     "iopub.status.idle": "2025-06-24T17:09:40.492464Z",
     "shell.execute_reply": "2025-06-24T17:09:40.491382Z"
    },
    "papermill": {
     "duration": 0.013087,
     "end_time": "2025-06-24T17:09:40.494367",
     "exception": false,
     "start_time": "2025-06-24T17:09:40.481280",
     "status": "completed"
    },
    "tags": []
   },
   "outputs": [],
   "source": [
    "data_1d = np.array([10, 20, 30, 40, 50, 60, 70, 80, 90, 100]) #1d array\n",
    "\n",
    "data_2d = np.array([ #2d array\n",
    "    [1, 2, 3, 4],\n",
    "    [5, 6, 7, 8],\n",
    "    [9, 10, 11, 12]\n",
    "])\n",
    "\n",
    "data_3d = np.array([ #3d array\n",
    "    [[100, 200, 300],\n",
    "        [400, 500, 600]],\n",
    "\n",
    "    [[719, 819, 919],\n",
    "    [1019, 1119, 1129]]\n",
    "])"
   ]
  },
  {
   "cell_type": "markdown",
   "id": "ee488ad6",
   "metadata": {
    "papermill": {
     "duration": 0.003563,
     "end_time": "2025-06-24T17:09:40.502020",
     "exception": false,
     "start_time": "2025-06-24T17:09:40.498457",
     "status": "completed"
    },
    "tags": []
   },
   "source": [
    "## **Indexing**"
   ]
  },
  {
   "cell_type": "markdown",
   "id": "21aea5e7",
   "metadata": {
    "papermill": {
     "duration": 0.003577,
     "end_time": "2025-06-24T17:09:40.509490",
     "exception": false,
     "start_time": "2025-06-24T17:09:40.505913",
     "status": "completed"
    },
    "tags": []
   },
   "source": [
    "Use when the data point is given or known, and when we need to retieve only one value from the array"
   ]
  },
  {
   "cell_type": "code",
   "execution_count": 3,
   "id": "abf72116",
   "metadata": {
    "execution": {
     "iopub.execute_input": "2025-06-24T17:09:40.518306Z",
     "iopub.status.busy": "2025-06-24T17:09:40.517980Z",
     "iopub.status.idle": "2025-06-24T17:09:40.525537Z",
     "shell.execute_reply": "2025-06-24T17:09:40.524480Z"
    },
    "papermill": {
     "duration": 0.01397,
     "end_time": "2025-06-24T17:09:40.527237",
     "exception": false,
     "start_time": "2025-06-24T17:09:40.513267",
     "status": "completed"
    },
    "tags": []
   },
   "outputs": [
    {
     "data": {
      "text/plain": [
       "50"
      ]
     },
     "execution_count": 3,
     "metadata": {},
     "output_type": "execute_result"
    }
   ],
   "source": [
    "# indexing 1d arrays is simple as indexing in lists\n",
    "\n",
    "data_1d[0] # gives first value -> 10, and in most of the language, first item is indexed by 0 not 1\n",
    "data_1d[-1] # gives last value -> 100\n",
    "data_1d[4] # 5th value\n"
   ]
  },
  {
   "cell_type": "code",
   "execution_count": 4,
   "id": "ea4e71cc",
   "metadata": {
    "execution": {
     "iopub.execute_input": "2025-06-24T17:09:40.538278Z",
     "iopub.status.busy": "2025-06-24T17:09:40.537429Z",
     "iopub.status.idle": "2025-06-24T17:09:40.543854Z",
     "shell.execute_reply": "2025-06-24T17:09:40.542939Z"
    },
    "papermill": {
     "duration": 0.013562,
     "end_time": "2025-06-24T17:09:40.545742",
     "exception": false,
     "start_time": "2025-06-24T17:09:40.532180",
     "status": "completed"
    },
    "tags": []
   },
   "outputs": [
    {
     "data": {
      "text/plain": [
       "11"
      ]
     },
     "execution_count": 4,
     "metadata": {},
     "output_type": "execute_result"
    }
   ],
   "source": [
    "# indexing 2d arrays\n",
    "\n",
    "# since this is a 2d array, we have 2 dimensions. first we need to get the desired row and then only the column\n",
    "\n",
    "data_2d[0][3] # depicts 1st row and 4th column (0 is first, 3 is fourth) gives -> 4\n",
    "data_2d[2][2] # 3rd row 3rd column/data -> 11"
   ]
  },
  {
   "cell_type": "code",
   "execution_count": 5,
   "id": "608ed19d",
   "metadata": {
    "execution": {
     "iopub.execute_input": "2025-06-24T17:09:40.555502Z",
     "iopub.status.busy": "2025-06-24T17:09:40.555126Z",
     "iopub.status.idle": "2025-06-24T17:09:40.561621Z",
     "shell.execute_reply": "2025-06-24T17:09:40.560638Z"
    },
    "papermill": {
     "duration": 0.013408,
     "end_time": "2025-06-24T17:09:40.563427",
     "exception": false,
     "start_time": "2025-06-24T17:09:40.550019",
     "status": "completed"
    },
    "tags": []
   },
   "outputs": [
    {
     "data": {
      "text/plain": [
       "300"
      ]
     },
     "execution_count": 5,
     "metadata": {},
     "output_type": "execute_result"
    }
   ],
   "source": [
    "# indexing 3d arrays\n",
    "\n",
    "# same as 2d array but with one extra layer of indexing, here we give 3 arguments and first one is slice, second and third are rows and columns respectively\n",
    "\n",
    "data_3d[0][0][2] # first slice, first row, third column -> 300"
   ]
  },
  {
   "cell_type": "markdown",
   "id": "4e426dfb",
   "metadata": {
    "papermill": {
     "duration": 0.004112,
     "end_time": "2025-06-24T17:09:40.572113",
     "exception": false,
     "start_time": "2025-06-24T17:09:40.568001",
     "status": "completed"
    },
    "tags": []
   },
   "source": [
    "## **Slicing Arrays**"
   ]
  },
  {
   "cell_type": "markdown",
   "id": "8f88653f",
   "metadata": {
    "papermill": {
     "duration": 0.0038,
     "end_time": "2025-06-24T17:09:40.580189",
     "exception": false,
     "start_time": "2025-06-24T17:09:40.576389",
     "status": "completed"
    },
    "tags": []
   },
   "source": [
    "Slicing is used when we need to slice the array from A to B. It changes the value of original array, so we won't be directly slicing the arrays, instead we will use the variable to store the sliced array."
   ]
  },
  {
   "cell_type": "markdown",
   "id": "51eb4fa3",
   "metadata": {
    "papermill": {
     "duration": 0.003765,
     "end_time": "2025-06-24T17:09:40.587989",
     "exception": false,
     "start_time": "2025-06-24T17:09:40.584224",
     "status": "completed"
    },
    "tags": []
   },
   "source": [
    "Use when you need to see the contigious number of arrays, like from x index to y index"
   ]
  },
  {
   "cell_type": "code",
   "execution_count": 6,
   "id": "ca7cde72",
   "metadata": {
    "execution": {
     "iopub.execute_input": "2025-06-24T17:09:40.598727Z",
     "iopub.status.busy": "2025-06-24T17:09:40.597521Z",
     "iopub.status.idle": "2025-06-24T17:09:40.604944Z",
     "shell.execute_reply": "2025-06-24T17:09:40.603966Z"
    },
    "papermill": {
     "duration": 0.014229,
     "end_time": "2025-06-24T17:09:40.606405",
     "exception": false,
     "start_time": "2025-06-24T17:09:40.592176",
     "status": "completed"
    },
    "tags": []
   },
   "outputs": [],
   "source": [
    "slice_1d = np.array([10, 20, 30, 40, 50, 60, 70, 80, 90, 100]) #1d array\n",
    "\n",
    "slice_2d = np.array([ #2d array\n",
    "    [1, 2, 3, 4],\n",
    "    [5, 6, 7, 8],\n",
    "    [9, 10, 11, 12]\n",
    "])\n",
    "\n",
    "slice_3d = np.array([ #3d array\n",
    "    [[1002, 200, 300, 283782, 72632],\n",
    "    [400, 500, 600, 238723, 2376237],\n",
    "    [99999, 89898, 989898, 93983298, 23723]],\n",
    "\n",
    "    [[719, 819, 919, 5678, 999],\n",
    "    [1019, 1119, 1129, 100, 7777],\n",
    "    [263723, 238723, 2365, 237632, 37632]],\n",
    "\n",
    "    [[7149, 8419, 91349, 567348, 999],\n",
    "    [101439, 134119, 143129, 12300, 723777],\n",
    "    [2633443723, 23834723, 2365, 23742632, 276238]]\n",
    "])"
   ]
  },
  {
   "cell_type": "code",
   "execution_count": 7,
   "id": "007edeb0",
   "metadata": {
    "execution": {
     "iopub.execute_input": "2025-06-24T17:09:40.616459Z",
     "iopub.status.busy": "2025-06-24T17:09:40.615634Z",
     "iopub.status.idle": "2025-06-24T17:09:40.624856Z",
     "shell.execute_reply": "2025-06-24T17:09:40.624058Z"
    },
    "papermill": {
     "duration": 0.015714,
     "end_time": "2025-06-24T17:09:40.626367",
     "exception": false,
     "start_time": "2025-06-24T17:09:40.610653",
     "status": "completed"
    },
    "tags": []
   },
   "outputs": [
    {
     "data": {
      "text/plain": [
       "array([100,  90,  80,  70,  60,  50,  40,  30,  20,  10])"
      ]
     },
     "execution_count": 7,
     "metadata": {},
     "output_type": "execute_result"
    }
   ],
   "source": [
    "# slicing 1d array\n",
    "\n",
    "# arr[start:stop]\n",
    "sliced_1d = slice_1d[0:3] # gives the array from index 0 to index 2, or first element to 3rd element -> [10, 20, 30]\n",
    "sliced_1d\n",
    "\n",
    "# arr[start:upto]\n",
    "sliced_1d_from_first = slice_1d[:6] # from 0 index to index 5 -> [10, 20, 30, 40, 50, 60]\n",
    "sliced_1d_from_first\n",
    "\n",
    "# arr[from:end]\n",
    "sliced_1d_to_last = slice_1d[6:] # from index 6 to last -> [70, 80, 90, 100]\n",
    "sliced_1d_to_last\n",
    "\n",
    "# arr[::step]\n",
    "sliced_1d_steps = slice_1d[::3] # stepping 3 from first number and on\n",
    "sliced_1d_steps\n",
    "\n",
    "# arr[::-1]\n",
    "sliced_1d_reverse = slice_1d[::-1] # reverse\n",
    "sliced_1d_reverse"
   ]
  },
  {
   "cell_type": "code",
   "execution_count": 8,
   "id": "0082c951",
   "metadata": {
    "execution": {
     "iopub.execute_input": "2025-06-24T17:09:40.636897Z",
     "iopub.status.busy": "2025-06-24T17:09:40.636505Z",
     "iopub.status.idle": "2025-06-24T17:09:40.644849Z",
     "shell.execute_reply": "2025-06-24T17:09:40.643969Z"
    },
    "papermill": {
     "duration": 0.015699,
     "end_time": "2025-06-24T17:09:40.646296",
     "exception": false,
     "start_time": "2025-06-24T17:09:40.630597",
     "status": "completed"
    },
    "tags": []
   },
   "outputs": [
    {
     "data": {
      "text/plain": [
       "array([[ 1,  3],\n",
       "       [ 5,  7],\n",
       "       [ 9, 11]])"
      ]
     },
     "execution_count": 8,
     "metadata": {},
     "output_type": "execute_result"
    }
   ],
   "source": [
    "# slicing 2d array\n",
    "\n",
    "# accessing one row, all columns\n",
    "sliced_2d_one_row = slice_2d[1, :] # selects 1st row only and it's all columns, but if we add : after 1, it shows all rows and it's columns from index 1\n",
    "sliced_2d_one_row # [5, 6, 7, 8]\n",
    "\n",
    "# accessing one column, all rows\n",
    "sliced_2d_one_column = slice_2d[:, 1] # selects 2nd column of all the rows\n",
    "sliced_2d_one_column\n",
    "\n",
    "\n",
    "\n",
    "# arr[rows:columns], rectangular subset of the array\n",
    "sliced_2d = slice_2d[1:3, 1:3] # this means give rows 1 and 2, with it's columns 1 and 2\n",
    "sliced_2d\n",
    "\n",
    "sliced_2d_b = slice_2d[0:3, 3:4]\n",
    "sliced_2d_b\n",
    "\n",
    "# arr[::steps, ::steps]\n",
    "sliced_2d_steps = slice_2d[::2, ::2] # all row and column by 2 steps\n",
    "sliced_2d_steps\n",
    "\n",
    "sliced_2d_steps_row = slice_2d[1::2, :] # from row 2, show all rows with 2 steps and show all columns of those rows\n",
    "sliced_2d_steps_row\n",
    "\n",
    "sliced_2d_steps_column = slice_2d[0:3, ::2] # generate rows from row 1 to row 3 with their columns with 2 steps\n",
    "sliced_2d_steps_column"
   ]
  },
  {
   "cell_type": "code",
   "execution_count": 9,
   "id": "f42fa94b",
   "metadata": {
    "execution": {
     "iopub.execute_input": "2025-06-24T17:09:40.656527Z",
     "iopub.status.busy": "2025-06-24T17:09:40.655766Z",
     "iopub.status.idle": "2025-06-24T17:09:40.662984Z",
     "shell.execute_reply": "2025-06-24T17:09:40.661940Z"
    },
    "papermill": {
     "duration": 0.014056,
     "end_time": "2025-06-24T17:09:40.664565",
     "exception": false,
     "start_time": "2025-06-24T17:09:40.650509",
     "status": "completed"
    },
    "tags": []
   },
   "outputs": [
    {
     "data": {
      "text/plain": [
       "array([[[   200, 283782],\n",
       "        [   500, 238723]],\n",
       "\n",
       "       [[  8419, 567348],\n",
       "        [134119,  12300]]])"
      ]
     },
     "execution_count": 9,
     "metadata": {},
     "output_type": "execute_result"
    }
   ],
   "source": [
    "# slicing 3d array\n",
    "\n",
    "sliced_3d = slice_3d[1, 1, 0:2]\n",
    "sliced_3d\n",
    "\n",
    "sliced_3d_steps = slice_3d[::2, :2, 1::2]\n",
    "sliced_3d_steps"
   ]
  },
  {
   "cell_type": "markdown",
   "id": "07ca9fa6",
   "metadata": {
    "papermill": {
     "duration": 0.003997,
     "end_time": "2025-06-24T17:09:40.673011",
     "exception": false,
     "start_time": "2025-06-24T17:09:40.669014",
     "status": "completed"
    },
    "tags": []
   },
   "source": [
    "## **Boolean Indexing**"
   ]
  },
  {
   "cell_type": "markdown",
   "id": "6b34bb78",
   "metadata": {
    "papermill": {
     "duration": 0.003852,
     "end_time": "2025-06-24T17:09:40.681197",
     "exception": false,
     "start_time": "2025-06-24T17:09:40.677345",
     "status": "completed"
    },
    "tags": []
   },
   "source": [
    "Use this when you need to know what numbers are present by performing Logics: is greater, is smaller, is equal, and, or, etc"
   ]
  },
  {
   "cell_type": "code",
   "execution_count": 10,
   "id": "cda20b34",
   "metadata": {
    "execution": {
     "iopub.execute_input": "2025-06-24T17:09:40.690682Z",
     "iopub.status.busy": "2025-06-24T17:09:40.690393Z",
     "iopub.status.idle": "2025-06-24T17:09:40.698068Z",
     "shell.execute_reply": "2025-06-24T17:09:40.697009Z"
    },
    "papermill": {
     "duration": 0.014423,
     "end_time": "2025-06-24T17:09:40.699716",
     "exception": false,
     "start_time": "2025-06-24T17:09:40.685293",
     "status": "completed"
    },
    "tags": []
   },
   "outputs": [],
   "source": [
    "bool_1d = np.array([5, 12, 3, 20, 8, 15, 1, 18, 7, 10])\n",
    "\n",
    "bool_2d = np.array([\n",
    "    [100, 2, 50, 7, 10, 150, 1, 80, 25, 5],\n",
    "    [12, 1000, 3, 400, 5, 600, 7, 800, 9, 10],\n",
    "    [90, 8, 70, 6, 50, 4, 30, 2, 10, 0]\n",
    "])\n",
    "\n",
    "bool_3d = np.array([\n",
    "    [[1, 11, 21, 31, 41, 51, 61, 71, 81, 91],\n",
    "     [2, 12, 22, 32, 42, 52, 62, 72, 82, 92],\n",
    "     [3, 13, 23, 33, 43, 53, 63, 73, 83, 93]],\n",
    "\n",
    "    [[100, 200, 300, 400, 500, 600, 700, 800, 900, 1000],\n",
    "     [101, 201, 301, 401, 501, 601, 701, 801, 901, 1001],\n",
    "     [102, 202, 302, 402, 502, 602, 702, 802, 902, 1002]]\n",
    "])"
   ]
  },
  {
   "cell_type": "code",
   "execution_count": 11,
   "id": "c7156985",
   "metadata": {
    "execution": {
     "iopub.execute_input": "2025-06-24T17:09:40.710016Z",
     "iopub.status.busy": "2025-06-24T17:09:40.709212Z",
     "iopub.status.idle": "2025-06-24T17:09:40.719929Z",
     "shell.execute_reply": "2025-06-24T17:09:40.719060Z"
    },
    "papermill": {
     "duration": 0.01759,
     "end_time": "2025-06-24T17:09:40.721595",
     "exception": false,
     "start_time": "2025-06-24T17:09:40.704005",
     "status": "completed"
    },
    "tags": []
   },
   "outputs": [
    {
     "data": {
      "text/plain": [
       "array([12,  3, 20,  8, 15,  1, 18,  7, 10])"
      ]
     },
     "execution_count": 11,
     "metadata": {},
     "output_type": "execute_result"
    }
   ],
   "source": [
    "# Boolean indexing in 1d\n",
    "\n",
    "# >, <, = and !=\n",
    "great_9 = bool_1d[bool_1d > 9] # gives array with numbers greater than 9\n",
    "great_9\n",
    "\n",
    "less_9 = bool_1d[ bool_1d < 9 ] # gives array with numbers lesser than 9\n",
    "less_9\n",
    "\n",
    "equal_5 = bool_1d[ bool_1d == 5] # gives if there is/are number equal to 5\n",
    "equal_5\n",
    "\n",
    "except_5 = bool_1d [bool_1d != 5] # wow, i thought it will give true, but != is more like excluding the number\n",
    "except_5\n",
    "\n",
    "# we dont use \"and\", \"or\" here, we use &, | because we need to do element-wise operations in numpy boolean indexing\n",
    "\n",
    "# &, | and ~\n",
    "or_5_20 = bool_1d [(bool_1d == 5) | (bool_1d == 20)] # show if either of them is true (because we told it to find if number either is 5 or 20)\n",
    "or_5_20\n",
    "\n",
    "and_5_20 = bool_1d [(bool_1d == 5) & (bool_1d == 20)] # it shows nothing because number/numbers can't be both 5 and 20 at the same time\n",
    "and_5_20\n",
    "\n",
    "# but if..\n",
    "and_5_2 = bool_1d [(bool_1d < 5) & (bool_1d > 2)] # it gives result because number/numbers can be both greater than 2 and less than 5\n",
    "and_5_2\n",
    "\n",
    "# however..\n",
    "and_5_10 = bool_1d [(bool_1d < 5) & (bool_1d > 10)] # it will give nothing because number/numbers can't be less than 5 and greater than 10 at the same time... less than 5 is -inf to 4, but greater than 10 is 10 to +inf\n",
    "and_5_10\n",
    "\n",
    "not_5 = bool_1d [~(bool_1d == 5)] # excludes 5\n",
    "not_5"
   ]
  },
  {
   "cell_type": "code",
   "execution_count": 12,
   "id": "5edf98b0",
   "metadata": {
    "execution": {
     "iopub.execute_input": "2025-06-24T17:09:40.733194Z",
     "iopub.status.busy": "2025-06-24T17:09:40.732056Z",
     "iopub.status.idle": "2025-06-24T17:09:40.741925Z",
     "shell.execute_reply": "2025-06-24T17:09:40.741004Z"
    },
    "papermill": {
     "duration": 0.017064,
     "end_time": "2025-06-24T17:09:40.743408",
     "exception": false,
     "start_time": "2025-06-24T17:09:40.726344",
     "status": "completed"
    },
    "tags": []
   },
   "outputs": [
    {
     "data": {
      "text/plain": [
       "array([], shape=(0, 10), dtype=int64)"
      ]
     },
     "execution_count": 12,
     "metadata": {},
     "output_type": "execute_result"
    }
   ],
   "source": [
    "# 2d boolean indexing\n",
    "\n",
    "# by default boolean indexing creates the mask; arrray of true and false depending upon the logic. Then, to see the value, we print it and get the 1d array result.\n",
    "\n",
    "# >, <, =, !=\n",
    "great_2d = bool_2d [(bool_2d > 5)] # get all the values over 5\n",
    "great_2d\n",
    "\n",
    "great_2d_2 = bool_2d [bool_2d[:, 2] > 5] # get all rows where value of the column 1 is greater than 5\n",
    "great_2d_2\n",
    "\n",
    "## great_2d_3 = bool_2d [bool_2d[1] > 5] # get 1st row if it's greater than 5 (this gives error because bool_2d has (3, 10) shape, but the shape of (bool_2d[1] > 5) is (10,). so computer doesnt know which true is of which number since the mask is not same)\n",
    "## great_2d_3\n",
    "\n",
    "small_2d = bool_2d [bool_2d < 10]\n",
    "small_2d\n",
    "\n",
    "small_2d_2 = bool_2d [bool_2d[:, 3] < 9] # get all rows if the 4th column of the row is less than 9\n",
    "small_2d_2\n",
    "\n",
    "equal_2d = bool_2d [bool_2d[:, 0] == 100]\n",
    "equal_2d\n",
    "\n",
    "equal_100 = bool_2d [bool_2d == 100]\n",
    "equal_100\n",
    "\n",
    "or_2d = bool_2d [(bool_2d > 10) | (bool_2d < 5)]\n",
    "or_2d\n",
    "\n",
    "or_2d_2 = bool_2d [(bool_2d[:, 2] > 5) | (bool_2d[:, 7] < 20)]\n",
    "or_2d_2\n",
    "\n",
    "and_2d = bool_2d [(bool_2d > 20) & (bool_2d < 100)]\n",
    "and_2d\n",
    "\n",
    "and_2d_2 = bool_2d [(bool_2d[:, 2] > 10) & (bool_2d[:, 3] < 6)] # gives nothing because we dont have row which contains the both column2 > 10, and column 3 < 6\n",
    "and_2d_2\n"
   ]
  },
  {
   "cell_type": "code",
   "execution_count": null,
   "id": "fac4564f",
   "metadata": {
    "papermill": {
     "duration": 0.004123,
     "end_time": "2025-06-24T17:09:40.752095",
     "exception": false,
     "start_time": "2025-06-24T17:09:40.747972",
     "status": "completed"
    },
    "tags": []
   },
   "outputs": [],
   "source": []
  }
 ],
 "metadata": {
  "kaggle": {
   "accelerator": "none",
   "dataSources": [],
   "dockerImageVersionId": 31040,
   "isGpuEnabled": false,
   "isInternetEnabled": false,
   "language": "python",
   "sourceType": "notebook"
  },
  "kernelspec": {
   "display_name": "Python 3",
   "language": "python",
   "name": "python3"
  },
  "language_info": {
   "codemirror_mode": {
    "name": "ipython",
    "version": 3
   },
   "file_extension": ".py",
   "mimetype": "text/x-python",
   "name": "python",
   "nbconvert_exporter": "python",
   "pygments_lexer": "ipython3",
   "version": "3.11.11"
  },
  "papermill": {
   "default_parameters": {},
   "duration": 6.243562,
   "end_time": "2025-06-24T17:09:41.378071",
   "environment_variables": {},
   "exception": null,
   "input_path": "__notebook__.ipynb",
   "output_path": "__notebook__.ipynb",
   "parameters": {},
   "start_time": "2025-06-24T17:09:35.134509",
   "version": "2.6.0"
  }
 },
 "nbformat": 4,
 "nbformat_minor": 5
}
